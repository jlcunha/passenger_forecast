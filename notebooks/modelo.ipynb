{
 "cells": [
  {
   "cell_type": "markdown",
   "metadata": {},
   "source": [
    "# <font color='darkorange'> 0.0. Imports"
   ]
  },
  {
   "cell_type": "code",
   "execution_count": 1,
   "metadata": {},
   "outputs": [],
   "source": [
    "import sys\n",
    "import os\n",
    "\n",
    "# create a path that points to the parent directory of the current directory\n",
    "module_path = os.path.abspath(os.path.join('..'))\n",
    "\n",
    "# check if the absolute path of the parent directory has been added to the system module search path\n",
    "if module_path not in sys.path:\n",
    "    sys.path.append(module_path)\n",
    "\n",
    "os.chdir(module_path)"
   ]
  },
  {
   "cell_type": "code",
   "execution_count": 2,
   "metadata": {},
   "outputs": [],
   "source": [
    "import pandas  as pd\n",
    "import numpy   as np\n",
    "import seaborn as sns\n",
    "\n",
    "# Libraries made for this project\n",
    "from src                     import Starts, BayesianSearchCV\n",
    "\n",
    "from matplotlib              import pyplot as plt\n",
    "from unidecode               import unidecode\n",
    "from dateutil.relativedelta  import relativedelta\n",
    "from sklearn.pipeline        import Pipeline\n",
    "from sklearn.impute          import SimpleImputer\n",
    "from sklearn.compose         import ColumnTransformer\n",
    "from sklearn.preprocessing   import StandardScaler\n",
    "from sklearn.model_selection import TimeSeriesSplit\n",
    "from category_encoders.count import CountEncoder\n",
    "from sklearn.metrics         import mean_squared_error\n",
    "from catboost                import CatBoostRegressor\n",
    "from lightgbm                import LGBMRegressor\n",
    "from datetime                import datetime, timedelta\n",
    "from IPython.display         import Image\n"
   ]
  },
  {
   "cell_type": "code",
   "execution_count": 3,
   "metadata": {},
   "outputs": [],
   "source": [
    "starts = Starts()"
   ]
  },
  {
   "cell_type": "code",
   "execution_count": 4,
   "metadata": {},
   "outputs": [],
   "source": [
    "starts.jupyter_settings()"
   ]
  },
  {
   "cell_type": "markdown",
   "metadata": {},
   "source": [
    "## <font color='darkorange'> 0.1. Helper Functions"
   ]
  },
  {
   "cell_type": "code",
   "execution_count": 5,
   "metadata": {},
   "outputs": [],
   "source": [
    "def RMSE(y_pred, y_true):\n",
    "    \"\"\"\n",
    "    Calculate the RMSE\n",
    "    \"\"\"\n",
    "    return np.sqrt(mean_squared_error(y_pred, y_true))"
   ]
  },
  {
   "cell_type": "code",
   "execution_count": 6,
   "metadata": {},
   "outputs": [],
   "source": [
    "def univariate_categorical( series, text):\n",
    "    \"\"\"\n",
    "    Print number of unique values and the percents of the values.\n",
    "    \"\"\"\n",
    "    print(f'Numero de {text}: {series.nunique()}\\n')\n",
    "    print(f'Percentual de {text}: ')\n",
    "    print(series.value_counts(normalize=True))\n",
    "\n",
    "    return None"
   ]
  },
  {
   "cell_type": "code",
   "execution_count": 7,
   "metadata": {},
   "outputs": [],
   "source": [
    "def split_names(data):\n",
    "\n",
    "    \"\"\"\n",
    "    Split the airport names into airport name and corresponding state abbreviation.\n",
    "    \n",
    "    Args:\n",
    "        data (DataFrame): Input DataFrame with columns 'aeroporto_de_origem_nome' and 'aeroporto_de_destino_nome'.\n",
    "    \n",
    "    Returns:\n",
    "        DataFrame: Modified input DataFrame with additional columns 'aeroporto_de_origem_uf' and 'aeroporto_de_destino_uf'.\n",
    "                   The 'aeroporto_de_origem_nome' and 'aeroporto_de_destino_nome' columns are updated to contain only the airport names.\n",
    "                   The 'aeroporto_de_origem_uf' and 'aeroporto_de_destino_uf' columns are converted to the 'category' data type.\n",
    "    \"\"\"\n",
    "\n",
    "    # Origem\n",
    "    aeroporto_de_origem_uf = pd.DataFrame( data.aeroporto_de_origem_nome.str.split(',').str[1] )\n",
    "    aeroporto_de_origem_uf = aeroporto_de_origem_uf.rename(columns={'aeroporto_de_origem_nome': 'aeroporto_de_origem_uf'})\n",
    "    uf_completo = pd.DataFrame( data.aeroporto_de_origem_uf )\n",
    "    uf_completo.update(aeroporto_de_origem_uf)\n",
    "    data.aeroporto_de_origem_uf = uf_completo.astype('category')\n",
    "    data.aeroporto_de_origem_nome = data.aeroporto_de_origem_nome.str.split(',').str[0].astype('category')\n",
    "\n",
    "    # Destino\n",
    "    aeroporto_de_destino_uf = pd.DataFrame( data.aeroporto_de_destino_nome.str.split(',').str[1] )\n",
    "    aeroporto_de_destino_uf = aeroporto_de_destino_uf.rename(columns={'aeroporto_de_destino_nome': 'aeroporto_de_destino_uf'})\n",
    "    uf_completo = pd.DataFrame( data.aeroporto_de_destino_uf )\n",
    "    uf_completo.update(aeroporto_de_destino_uf)\n",
    "    data.aeroporto_de_destino_uf = uf_completo.astype('category')\n",
    "    data.aeroporto_de_destino_nome = data.aeroporto_de_destino_nome.str.split(',').str[0].astype('category')\n",
    "\n",
    "    return data\n",
    "\n",
    "def unicode_text( data ):\n",
    "    \"\"\"\n",
    "    Transforme the text - strip and unidecode.\n",
    "    \"\"\"\n",
    "\n",
    "    for col in data.select_dtypes(include=['category']).columns:\n",
    "        data[col] = data[col].astype(str).str.strip().apply(lambda x: unidecode(x))\n",
    "        data[col] = data[col].astype('category')\n",
    "    \n",
    "    return data"
   ]
  },
  {
   "attachments": {},
   "cell_type": "markdown",
   "metadata": {},
   "source": [
    "# <font color='darkorange'> 0.2. Load Data"
   ]
  },
  {
   "cell_type": "code",
   "execution_count": 8,
   "metadata": {},
   "outputs": [
    {
     "name": "stdout",
     "output_type": "stream",
     "text": [
      "True\n",
      "(366265, 26) (1250, 26)\n"
     ]
    }
   ],
   "source": [
    "data = pd.read_parquet('data/df2.parquet')\n",
    "\n",
    "# Selecionando somente os Voos Regulares - Já que não faz sentido prever voos irregulares\n",
    "data = data.query(\"grupo_de_voo == 'REGULAR'\")\n",
    "\n",
    "# Como algumas features são dependentes dos passageiros, e estamos tentando prever o numero de passageiros, essas features foram retiradas\n",
    "cols = [\"carga_paga_kg\", \"carga_gratis_kg\", \"correio_kg\", \"ask\", \"rpk\", \"atk\", \"rtk\", \"combustivel_litros\", \"empresa_sigla\", \"empresa_nacionalidade\", \n",
    "        \"grupo_de_voo\", \"combustivel_voo\", \"km_combustivel\", \"passageiros_gratis\", \"bagagem_kg\", \"payload\", \"carga_paga_km\", \"carga_gratis_km\", \"correio_km\", \n",
    "        \"passageiros_assentos\", \"passageiros_voo\", \"passageiros_pg_por_voo\", \"passageiros_gt_por_voo\", \"passageiros_pagos\"]\n",
    "\n",
    "data = data.drop(columns=cols)\n",
    "data = data.reset_index(drop=True)\n",
    "\n",
    "# Split train test\n",
    "train = data.query('date < \"2023-03-01\"')\n",
    "test = data.query('date >= \"2023-03-01\"')\n",
    "\n",
    "print(train.shape[0] + test.shape[0] == data.shape[0])\n",
    "print(train.shape, test.shape)"
   ]
  },
  {
   "attachments": {},
   "cell_type": "markdown",
   "metadata": {},
   "source": [
    "# <font color='darkorange'>  1.0 Data Descriptions"
   ]
  },
  {
   "attachments": {},
   "cell_type": "markdown",
   "metadata": {},
   "source": [
    "## <font color='darkorange'>  1.1. Check NA and dtypes"
   ]
  },
  {
   "cell_type": "code",
   "execution_count": 9,
   "metadata": {},
   "outputs": [
    {
     "name": "stdout",
     "output_type": "stream",
     "text": [
      "Number of rows: 366265\n",
      "Number of cols: 26\n"
     ]
    }
   ],
   "source": [
    "starts.data_dimensions(train)"
   ]
  },
  {
   "attachments": {},
   "cell_type": "markdown",
   "metadata": {},
   "source": [
    "## <font color='darkorange'>  1.2. Data Dimensions"
   ]
  },
  {
   "cell_type": "code",
   "execution_count": 10,
   "metadata": {},
   "outputs": [
    {
     "data": {
      "text/html": [
       "<div>\n",
       "<style scoped>\n",
       "    .dataframe tbody tr th:only-of-type {\n",
       "        vertical-align: middle;\n",
       "    }\n",
       "\n",
       "    .dataframe tbody tr th {\n",
       "        vertical-align: top;\n",
       "    }\n",
       "\n",
       "    .dataframe thead th {\n",
       "        text-align: right;\n",
       "    }\n",
       "</style>\n",
       "<table border=\"1\" class=\"dataframe\">\n",
       "  <thead>\n",
       "    <tr style=\"text-align: right;\">\n",
       "      <th></th>\n",
       "      <th>Type</th>\n",
       "      <th>number na</th>\n",
       "      <th>percent na</th>\n",
       "    </tr>\n",
       "  </thead>\n",
       "  <tbody>\n",
       "    <tr>\n",
       "      <th>empresa_nome</th>\n",
       "      <td>category</td>\n",
       "      <td>0</td>\n",
       "      <td>0.0 %</td>\n",
       "    </tr>\n",
       "    <tr>\n",
       "      <th>ano</th>\n",
       "      <td>int32</td>\n",
       "      <td>0</td>\n",
       "      <td>0.0 %</td>\n",
       "    </tr>\n",
       "    <tr>\n",
       "      <th>mes</th>\n",
       "      <td>int32</td>\n",
       "      <td>0</td>\n",
       "      <td>0.0 %</td>\n",
       "    </tr>\n",
       "    <tr>\n",
       "      <th>aeroporto_de_origem_sigla</th>\n",
       "      <td>category</td>\n",
       "      <td>0</td>\n",
       "      <td>0.0 %</td>\n",
       "    </tr>\n",
       "    <tr>\n",
       "      <th>aeroporto_de_origem_nome</th>\n",
       "      <td>category</td>\n",
       "      <td>0</td>\n",
       "      <td>0.0 %</td>\n",
       "    </tr>\n",
       "    <tr>\n",
       "      <th>aeroporto_de_origem_uf</th>\n",
       "      <td>category</td>\n",
       "      <td>16896</td>\n",
       "      <td>4.61 %</td>\n",
       "    </tr>\n",
       "    <tr>\n",
       "      <th>aeroporto_de_origem_regiao</th>\n",
       "      <td>category</td>\n",
       "      <td>16896</td>\n",
       "      <td>4.61 %</td>\n",
       "    </tr>\n",
       "    <tr>\n",
       "      <th>aeroporto_de_origem_pais</th>\n",
       "      <td>category</td>\n",
       "      <td>0</td>\n",
       "      <td>0.0 %</td>\n",
       "    </tr>\n",
       "    <tr>\n",
       "      <th>aeroporto_de_origem_continente</th>\n",
       "      <td>category</td>\n",
       "      <td>0</td>\n",
       "      <td>0.0 %</td>\n",
       "    </tr>\n",
       "    <tr>\n",
       "      <th>aeroporto_de_destino_sigla</th>\n",
       "      <td>category</td>\n",
       "      <td>0</td>\n",
       "      <td>0.0 %</td>\n",
       "    </tr>\n",
       "    <tr>\n",
       "      <th>aeroporto_de_destino_nome</th>\n",
       "      <td>category</td>\n",
       "      <td>0</td>\n",
       "      <td>0.0 %</td>\n",
       "    </tr>\n",
       "    <tr>\n",
       "      <th>aeroporto_de_destino_uf</th>\n",
       "      <td>category</td>\n",
       "      <td>16650</td>\n",
       "      <td>4.55 %</td>\n",
       "    </tr>\n",
       "    <tr>\n",
       "      <th>aeroporto_de_destino_regiao</th>\n",
       "      <td>category</td>\n",
       "      <td>16650</td>\n",
       "      <td>4.55 %</td>\n",
       "    </tr>\n",
       "    <tr>\n",
       "      <th>aeroporto_de_destino_pais</th>\n",
       "      <td>category</td>\n",
       "      <td>0</td>\n",
       "      <td>0.0 %</td>\n",
       "    </tr>\n",
       "    <tr>\n",
       "      <th>aeroporto_de_destino_continente</th>\n",
       "      <td>category</td>\n",
       "      <td>0</td>\n",
       "      <td>0.0 %</td>\n",
       "    </tr>\n",
       "    <tr>\n",
       "      <th>natureza</th>\n",
       "      <td>category</td>\n",
       "      <td>0</td>\n",
       "      <td>0.0 %</td>\n",
       "    </tr>\n",
       "    <tr>\n",
       "      <th>distancia_voada_km</th>\n",
       "      <td>float32</td>\n",
       "      <td>0</td>\n",
       "      <td>0.0 %</td>\n",
       "    </tr>\n",
       "    <tr>\n",
       "      <th>decolagens</th>\n",
       "      <td>float32</td>\n",
       "      <td>0</td>\n",
       "      <td>0.0 %</td>\n",
       "    </tr>\n",
       "    <tr>\n",
       "      <th>assentos</th>\n",
       "      <td>float32</td>\n",
       "      <td>0</td>\n",
       "      <td>0.0 %</td>\n",
       "    </tr>\n",
       "    <tr>\n",
       "      <th>horas_voadas</th>\n",
       "      <td>float32</td>\n",
       "      <td>0</td>\n",
       "      <td>0.0 %</td>\n",
       "    </tr>\n",
       "    <tr>\n",
       "      <th>rota</th>\n",
       "      <td>object</td>\n",
       "      <td>0</td>\n",
       "      <td>0.0 %</td>\n",
       "    </tr>\n",
       "    <tr>\n",
       "      <th>date</th>\n",
       "      <td>datetime64[ns]</td>\n",
       "      <td>0</td>\n",
       "      <td>0.0 %</td>\n",
       "    </tr>\n",
       "    <tr>\n",
       "      <th>distancia_voada_km_por_voo</th>\n",
       "      <td>float32</td>\n",
       "      <td>0</td>\n",
       "      <td>0.0 %</td>\n",
       "    </tr>\n",
       "    <tr>\n",
       "      <th>assentos_por_voo</th>\n",
       "      <td>float32</td>\n",
       "      <td>0</td>\n",
       "      <td>0.0 %</td>\n",
       "    </tr>\n",
       "    <tr>\n",
       "      <th>horas_voadas_por_voo</th>\n",
       "      <td>float32</td>\n",
       "      <td>0</td>\n",
       "      <td>0.0 %</td>\n",
       "    </tr>\n",
       "    <tr>\n",
       "      <th>passageiros</th>\n",
       "      <td>float32</td>\n",
       "      <td>0</td>\n",
       "      <td>0.0 %</td>\n",
       "    </tr>\n",
       "  </tbody>\n",
       "</table>\n",
       "</div>"
      ],
      "text/plain": [
       "                                           Type  number na percent na\n",
       "empresa_nome                           category          0      0.0 %\n",
       "ano                                       int32          0      0.0 %\n",
       "mes                                       int32          0      0.0 %\n",
       "aeroporto_de_origem_sigla              category          0      0.0 %\n",
       "aeroporto_de_origem_nome               category          0      0.0 %\n",
       "aeroporto_de_origem_uf                 category      16896     4.61 %\n",
       "aeroporto_de_origem_regiao             category      16896     4.61 %\n",
       "aeroporto_de_origem_pais               category          0      0.0 %\n",
       "aeroporto_de_origem_continente         category          0      0.0 %\n",
       "aeroporto_de_destino_sigla             category          0      0.0 %\n",
       "aeroporto_de_destino_nome              category          0      0.0 %\n",
       "aeroporto_de_destino_uf                category      16650     4.55 %\n",
       "aeroporto_de_destino_regiao            category      16650     4.55 %\n",
       "aeroporto_de_destino_pais              category          0      0.0 %\n",
       "aeroporto_de_destino_continente        category          0      0.0 %\n",
       "natureza                               category          0      0.0 %\n",
       "distancia_voada_km                      float32          0      0.0 %\n",
       "decolagens                              float32          0      0.0 %\n",
       "assentos                                float32          0      0.0 %\n",
       "horas_voadas                            float32          0      0.0 %\n",
       "rota                                     object          0      0.0 %\n",
       "date                             datetime64[ns]          0      0.0 %\n",
       "distancia_voada_km_por_voo              float32          0      0.0 %\n",
       "assentos_por_voo                        float32          0      0.0 %\n",
       "horas_voadas_por_voo                    float32          0      0.0 %\n",
       "passageiros                             float32          0      0.0 %"
      ]
     },
     "execution_count": 10,
     "metadata": {},
     "output_type": "execute_result"
    }
   ],
   "source": [
    "starts.type_na(train)"
   ]
  },
  {
   "attachments": {},
   "cell_type": "markdown",
   "metadata": {},
   "source": [
    "- Faltam dados dos estados de origem e destino devido a estarem agrupados na mesma coluna"
   ]
  },
  {
   "attachments": {},
   "cell_type": "markdown",
   "metadata": {},
   "source": [
    "# <font color='darkorange'>  2. EDA"
   ]
  },
  {
   "cell_type": "code",
   "execution_count": 11,
   "metadata": {},
   "outputs": [],
   "source": [
    "df2 = train.copy()"
   ]
  },
  {
   "attachments": {},
   "cell_type": "markdown",
   "metadata": {},
   "source": [
    "## <font color='darkorange'>  2.1. Descriptive Analysis"
   ]
  },
  {
   "cell_type": "code",
   "execution_count": 12,
   "metadata": {},
   "outputs": [
    {
     "data": {
      "text/html": [
       "<div>\n",
       "<style scoped>\n",
       "    .dataframe tbody tr th:only-of-type {\n",
       "        vertical-align: middle;\n",
       "    }\n",
       "\n",
       "    .dataframe tbody tr th {\n",
       "        vertical-align: top;\n",
       "    }\n",
       "\n",
       "    .dataframe thead th {\n",
       "        text-align: right;\n",
       "    }\n",
       "</style>\n",
       "<table border=\"1\" class=\"dataframe\">\n",
       "  <thead>\n",
       "    <tr style=\"text-align: right;\">\n",
       "      <th></th>\n",
       "      <th>Non-Null</th>\n",
       "      <th>range</th>\n",
       "      <th>min</th>\n",
       "      <th>quant25</th>\n",
       "      <th>median</th>\n",
       "      <th>quant75</th>\n",
       "      <th>max</th>\n",
       "      <th>mean</th>\n",
       "      <th>std</th>\n",
       "      <th>skew</th>\n",
       "      <th>kurtosis</th>\n",
       "    </tr>\n",
       "  </thead>\n",
       "  <tbody>\n",
       "    <tr>\n",
       "      <th>ano</th>\n",
       "      <td>366265</td>\n",
       "      <td>23.00</td>\n",
       "      <td>2000.00</td>\n",
       "      <td>2003.00</td>\n",
       "      <td>2010.00</td>\n",
       "      <td>2016.00</td>\n",
       "      <td>2023.00</td>\n",
       "      <td>2009.98</td>\n",
       "      <td>6.97</td>\n",
       "      <td>0.12</td>\n",
       "      <td>-1.27</td>\n",
       "    </tr>\n",
       "    <tr>\n",
       "      <th>mes</th>\n",
       "      <td>366265</td>\n",
       "      <td>11.00</td>\n",
       "      <td>1.00</td>\n",
       "      <td>3.00</td>\n",
       "      <td>6.00</td>\n",
       "      <td>9.00</td>\n",
       "      <td>12.00</td>\n",
       "      <td>6.44</td>\n",
       "      <td>3.50</td>\n",
       "      <td>0.02</td>\n",
       "      <td>-1.25</td>\n",
       "    </tr>\n",
       "    <tr>\n",
       "      <th>distancia_voada_km</th>\n",
       "      <td>366265</td>\n",
       "      <td>682240.00</td>\n",
       "      <td>14.00</td>\n",
       "      <td>9464.00</td>\n",
       "      <td>25152.00</td>\n",
       "      <td>57483.00</td>\n",
       "      <td>682254.00</td>\n",
       "      <td>47401.39</td>\n",
       "      <td>63736.37</td>\n",
       "      <td>2.90</td>\n",
       "      <td>11.12</td>\n",
       "    </tr>\n",
       "    <tr>\n",
       "      <th>decolagens</th>\n",
       "      <td>366265</td>\n",
       "      <td>917.00</td>\n",
       "      <td>1.00</td>\n",
       "      <td>21.00</td>\n",
       "      <td>31.00</td>\n",
       "      <td>61.00</td>\n",
       "      <td>918.00</td>\n",
       "      <td>50.58</td>\n",
       "      <td>60.34</td>\n",
       "      <td>4.76</td>\n",
       "      <td>39.02</td>\n",
       "    </tr>\n",
       "    <tr>\n",
       "      <th>assentos</th>\n",
       "      <td>366265</td>\n",
       "      <td>154836.00</td>\n",
       "      <td>9.00</td>\n",
       "      <td>1404.00</td>\n",
       "      <td>4150.00</td>\n",
       "      <td>8988.00</td>\n",
       "      <td>154845.00</td>\n",
       "      <td>6935.85</td>\n",
       "      <td>9405.25</td>\n",
       "      <td>4.51</td>\n",
       "      <td>35.74</td>\n",
       "    </tr>\n",
       "    <tr>\n",
       "      <th>horas_voadas</th>\n",
       "      <td>366265</td>\n",
       "      <td>1432.68</td>\n",
       "      <td>0.52</td>\n",
       "      <td>24.55</td>\n",
       "      <td>53.39</td>\n",
       "      <td>107.84</td>\n",
       "      <td>1433.20</td>\n",
       "      <td>86.13</td>\n",
       "      <td>99.84</td>\n",
       "      <td>2.65</td>\n",
       "      <td>9.73</td>\n",
       "    </tr>\n",
       "    <tr>\n",
       "      <th>distancia_voada_km_por_voo</th>\n",
       "      <td>366265</td>\n",
       "      <td>9905.00</td>\n",
       "      <td>14.00</td>\n",
       "      <td>393.00</td>\n",
       "      <td>647.00</td>\n",
       "      <td>1218.00</td>\n",
       "      <td>9919.00</td>\n",
       "      <td>1108.09</td>\n",
       "      <td>1470.33</td>\n",
       "      <td>3.85</td>\n",
       "      <td>16.53</td>\n",
       "    </tr>\n",
       "    <tr>\n",
       "      <th>assentos_por_voo</th>\n",
       "      <td>366265</td>\n",
       "      <td>443.75</td>\n",
       "      <td>2.25</td>\n",
       "      <td>86.00</td>\n",
       "      <td>130.50</td>\n",
       "      <td>169.00</td>\n",
       "      <td>446.00</td>\n",
       "      <td>125.19</td>\n",
       "      <td>57.41</td>\n",
       "      <td>0.10</td>\n",
       "      <td>0.67</td>\n",
       "    </tr>\n",
       "    <tr>\n",
       "      <th>horas_voadas_por_voo</th>\n",
       "      <td>366265</td>\n",
       "      <td>23.05</td>\n",
       "      <td>0.50</td>\n",
       "      <td>1.05</td>\n",
       "      <td>1.43</td>\n",
       "      <td>2.14</td>\n",
       "      <td>23.55</td>\n",
       "      <td>1.93</td>\n",
       "      <td>1.77</td>\n",
       "      <td>3.73</td>\n",
       "      <td>16.42</td>\n",
       "    </tr>\n",
       "    <tr>\n",
       "      <th>passageiros</th>\n",
       "      <td>366265</td>\n",
       "      <td>93717.00</td>\n",
       "      <td>2.00</td>\n",
       "      <td>508.00</td>\n",
       "      <td>2129.00</td>\n",
       "      <td>5455.00</td>\n",
       "      <td>93719.00</td>\n",
       "      <td>4360.94</td>\n",
       "      <td>6568.69</td>\n",
       "      <td>3.97</td>\n",
       "      <td>25.99</td>\n",
       "    </tr>\n",
       "  </tbody>\n",
       "</table>\n",
       "</div>"
      ],
      "text/plain": [
       "                            Non-Null     range     min  quant25   median  quant75       max     mean      std  skew  kurtosis\n",
       "ano                           366265     23.00 2000.00  2003.00  2010.00  2016.00   2023.00  2009.98     6.97  0.12     -1.27\n",
       "mes                           366265     11.00    1.00     3.00     6.00     9.00     12.00     6.44     3.50  0.02     -1.25\n",
       "distancia_voada_km            366265 682240.00   14.00  9464.00 25152.00 57483.00 682254.00 47401.39 63736.37  2.90     11.12\n",
       "decolagens                    366265    917.00    1.00    21.00    31.00    61.00    918.00    50.58    60.34  4.76     39.02\n",
       "assentos                      366265 154836.00    9.00  1404.00  4150.00  8988.00 154845.00  6935.85  9405.25  4.51     35.74\n",
       "horas_voadas                  366265   1432.68    0.52    24.55    53.39   107.84   1433.20    86.13    99.84  2.65      9.73\n",
       "distancia_voada_km_por_voo    366265   9905.00   14.00   393.00   647.00  1218.00   9919.00  1108.09  1470.33  3.85     16.53\n",
       "assentos_por_voo              366265    443.75    2.25    86.00   130.50   169.00    446.00   125.19    57.41  0.10      0.67\n",
       "horas_voadas_por_voo          366265     23.05    0.50     1.05     1.43     2.14     23.55     1.93     1.77  3.73     16.42\n",
       "passageiros                   366265  93717.00    2.00   508.00  2129.00  5455.00  93719.00  4360.94  6568.69  3.97     25.99"
      ]
     },
     "execution_count": 12,
     "metadata": {},
     "output_type": "execute_result"
    }
   ],
   "source": [
    "starts.statistics_info(df2)"
   ]
  },
  {
   "cell_type": "markdown",
   "metadata": {},
   "source": [
    "- 22 anos de dados - 2001 - 2023\n",
    "- 14 km de distancia como minimo me chama a atenção\n",
    "- Registro com uma unica decolagem\n",
    "- Decolagem com alta kurtosis, skew positiva\n",
    "- Assentos com alta kurtosis, skew positiva\n",
    "- Passageiros com alta kurtosis, skew positiva"
   ]
  },
  {
   "attachments": {},
   "cell_type": "markdown",
   "metadata": {},
   "source": [
    "## <font color='darkorange'>  2.2. Numerical Analysis"
   ]
  },
  {
   "cell_type": "code",
   "execution_count": 13,
   "metadata": {},
   "outputs": [
    {
     "data": {
      "image/png": "[encoded data removed]",
      "text/plain": [
       "<Figure size 2500x800 with 2 Axes>"
      ]
     },
     "metadata": {},
     "output_type": "display_data"
    }
   ],
   "source": [
    "# target\n",
    "fig, axs = plt.subplots(nrows=1, ncols=2, figsize=(25, 8))\n",
    "fig.suptitle('Passageiros Distribuições')\n",
    "sns.distplot((df2.passageiros), ax=axs[0]);\n",
    "axs[0].set_title('Normal')\n",
    "sns.distplot(np.log1p(df2.passageiros), ax=axs[1] );\n",
    "axs[1].set_title('LOG1P');"
   ]
  },
  {
   "cell_type": "code",
   "execution_count": 14,
   "metadata": {},
   "outputs": [
    {
     "data": {
      "image/png": "[encoded data removed]",
      "text/plain": [
       "<Figure size 1800x1200 with 12 Axes>"
      ]
     },
     "metadata": {},
     "output_type": "display_data"
    }
   ],
   "source": [
    "df2.hist(bins=22, figsize=(18,12));"
   ]
  },
  {
   "cell_type": "code",
   "execution_count": 15,
   "metadata": {},
   "outputs": [
    {
     "data": {
      "text/html": [
       "<div>\n",
       "<style scoped>\n",
       "    .dataframe tbody tr th:only-of-type {\n",
       "        vertical-align: middle;\n",
       "    }\n",
       "\n",
       "    .dataframe tbody tr th {\n",
       "        vertical-align: top;\n",
       "    }\n",
       "\n",
       "    .dataframe thead th {\n",
       "        text-align: right;\n",
       "    }\n",
       "</style>\n",
       "<table border=\"1\" class=\"dataframe\">\n",
       "  <thead>\n",
       "    <tr style=\"text-align: right;\">\n",
       "      <th></th>\n",
       "      <th>empresa_nome</th>\n",
       "      <th>ano</th>\n",
       "      <th>mes</th>\n",
       "      <th>aeroporto_de_origem_sigla</th>\n",
       "      <th>aeroporto_de_origem_nome</th>\n",
       "      <th>aeroporto_de_origem_uf</th>\n",
       "      <th>aeroporto_de_origem_regiao</th>\n",
       "      <th>aeroporto_de_origem_pais</th>\n",
       "      <th>aeroporto_de_origem_continente</th>\n",
       "      <th>aeroporto_de_destino_sigla</th>\n",
       "      <th>aeroporto_de_destino_nome</th>\n",
       "      <th>aeroporto_de_destino_uf</th>\n",
       "      <th>aeroporto_de_destino_regiao</th>\n",
       "      <th>aeroporto_de_destino_pais</th>\n",
       "      <th>aeroporto_de_destino_continente</th>\n",
       "      <th>natureza</th>\n",
       "      <th>distancia_voada_km</th>\n",
       "      <th>decolagens</th>\n",
       "      <th>assentos</th>\n",
       "      <th>horas_voadas</th>\n",
       "      <th>rota</th>\n",
       "      <th>date</th>\n",
       "      <th>distancia_voada_km_por_voo</th>\n",
       "      <th>assentos_por_voo</th>\n",
       "      <th>horas_voadas_por_voo</th>\n",
       "      <th>passageiros</th>\n",
       "    </tr>\n",
       "  </thead>\n",
       "  <tbody>\n",
       "    <tr>\n",
       "      <th>274034</th>\n",
       "      <td>TAM LINHAS AÉREAS S.A.</td>\n",
       "      <td>2019</td>\n",
       "      <td>12</td>\n",
       "      <td>SBSP</td>\n",
       "      <td>SÃO PAULO</td>\n",
       "      <td>SP</td>\n",
       "      <td>SUDESTE</td>\n",
       "      <td>BRASIL</td>\n",
       "      <td>AMÉRICA DO SUL</td>\n",
       "      <td>SBRJ</td>\n",
       "      <td>RIO DE JANEIRO</td>\n",
       "      <td>RJ</td>\n",
       "      <td>SUDESTE</td>\n",
       "      <td>BRASIL</td>\n",
       "      <td>AMÉRICA DO SUL</td>\n",
       "      <td>DOMÉSTICA</td>\n",
       "      <td>256566.00</td>\n",
       "      <td>701.00</td>\n",
       "      <td>107394.00</td>\n",
       "      <td>694.67</td>\n",
       "      <td>SBSP - SBRJ</td>\n",
       "      <td>2019-12-01</td>\n",
       "      <td>366.00</td>\n",
       "      <td>153.20</td>\n",
       "      <td>0.99</td>\n",
       "      <td>93719.00</td>\n",
       "    </tr>\n",
       "    <tr>\n",
       "      <th>270531</th>\n",
       "      <td>TAM LINHAS AÉREAS S.A.</td>\n",
       "      <td>2019</td>\n",
       "      <td>1</td>\n",
       "      <td>SBRJ</td>\n",
       "      <td>RIO DE JANEIRO</td>\n",
       "      <td>RJ</td>\n",
       "      <td>SUDESTE</td>\n",
       "      <td>BRASIL</td>\n",
       "      <td>AMÉRICA DO SUL</td>\n",
       "      <td>SBSP</td>\n",
       "      <td>SÃO PAULO</td>\n",
       "      <td>SP</td>\n",
       "      <td>SUDESTE</td>\n",
       "      <td>BRASIL</td>\n",
       "      <td>AMÉRICA DO SUL</td>\n",
       "      <td>DOMÉSTICA</td>\n",
       "      <td>262788.00</td>\n",
       "      <td>718.00</td>\n",
       "      <td>103392.00</td>\n",
       "      <td>728.46</td>\n",
       "      <td>SBRJ - SBSP</td>\n",
       "      <td>2019-01-01</td>\n",
       "      <td>366.00</td>\n",
       "      <td>144.00</td>\n",
       "      <td>1.01</td>\n",
       "      <td>93347.00</td>\n",
       "    </tr>\n",
       "    <tr>\n",
       "      <th>273380</th>\n",
       "      <td>TAM LINHAS AÉREAS S.A.</td>\n",
       "      <td>2019</td>\n",
       "      <td>10</td>\n",
       "      <td>SBRJ</td>\n",
       "      <td>RIO DE JANEIRO</td>\n",
       "      <td>RJ</td>\n",
       "      <td>SUDESTE</td>\n",
       "      <td>BRASIL</td>\n",
       "      <td>AMÉRICA DO SUL</td>\n",
       "      <td>SBSP</td>\n",
       "      <td>SÃO PAULO</td>\n",
       "      <td>SP</td>\n",
       "      <td>SUDESTE</td>\n",
       "      <td>BRASIL</td>\n",
       "      <td>AMÉRICA DO SUL</td>\n",
       "      <td>DOMÉSTICA</td>\n",
       "      <td>267546.00</td>\n",
       "      <td>731.00</td>\n",
       "      <td>105414.00</td>\n",
       "      <td>754.91</td>\n",
       "      <td>SBRJ - SBSP</td>\n",
       "      <td>2019-10-01</td>\n",
       "      <td>366.00</td>\n",
       "      <td>144.21</td>\n",
       "      <td>1.03</td>\n",
       "      <td>92828.00</td>\n",
       "    </tr>\n",
       "    <tr>\n",
       "      <th>281404</th>\n",
       "      <td>TAM LINHAS AÉREAS S.A.</td>\n",
       "      <td>2020</td>\n",
       "      <td>1</td>\n",
       "      <td>SBRJ</td>\n",
       "      <td>RIO DE JANEIRO</td>\n",
       "      <td>RJ</td>\n",
       "      <td>SUDESTE</td>\n",
       "      <td>BRASIL</td>\n",
       "      <td>AMÉRICA DO SUL</td>\n",
       "      <td>SBSP</td>\n",
       "      <td>SÃO PAULO</td>\n",
       "      <td>SP</td>\n",
       "      <td>SUDESTE</td>\n",
       "      <td>BRASIL</td>\n",
       "      <td>AMÉRICA DO SUL</td>\n",
       "      <td>DOMÉSTICA</td>\n",
       "      <td>253638.00</td>\n",
       "      <td>693.00</td>\n",
       "      <td>106470.00</td>\n",
       "      <td>718.77</td>\n",
       "      <td>SBRJ - SBSP</td>\n",
       "      <td>2020-01-01</td>\n",
       "      <td>366.00</td>\n",
       "      <td>153.64</td>\n",
       "      <td>1.04</td>\n",
       "      <td>91898.00</td>\n",
       "    </tr>\n",
       "    <tr>\n",
       "      <th>191769</th>\n",
       "      <td>GOL LINHAS AÉREAS S.A. (EX- VRG LINHAS AÉREAS ...</td>\n",
       "      <td>2014</td>\n",
       "      <td>9</td>\n",
       "      <td>SBRJ</td>\n",
       "      <td>RIO DE JANEIRO</td>\n",
       "      <td>RJ</td>\n",
       "      <td>SUDESTE</td>\n",
       "      <td>BRASIL</td>\n",
       "      <td>AMÉRICA DO SUL</td>\n",
       "      <td>SBSP</td>\n",
       "      <td>SÃO PAULO</td>\n",
       "      <td>SP</td>\n",
       "      <td>SUDESTE</td>\n",
       "      <td>BRASIL</td>\n",
       "      <td>AMÉRICA DO SUL</td>\n",
       "      <td>DOMÉSTICA</td>\n",
       "      <td>294630.00</td>\n",
       "      <td>805.00</td>\n",
       "      <td>142407.00</td>\n",
       "      <td>798.60</td>\n",
       "      <td>SBRJ - SBSP</td>\n",
       "      <td>2014-09-01</td>\n",
       "      <td>366.00</td>\n",
       "      <td>176.90</td>\n",
       "      <td>0.99</td>\n",
       "      <td>91515.00</td>\n",
       "    </tr>\n",
       "    <tr>\n",
       "      <th>...</th>\n",
       "      <td>...</td>\n",
       "      <td>...</td>\n",
       "      <td>...</td>\n",
       "      <td>...</td>\n",
       "      <td>...</td>\n",
       "      <td>...</td>\n",
       "      <td>...</td>\n",
       "      <td>...</td>\n",
       "      <td>...</td>\n",
       "      <td>...</td>\n",
       "      <td>...</td>\n",
       "      <td>...</td>\n",
       "      <td>...</td>\n",
       "      <td>...</td>\n",
       "      <td>...</td>\n",
       "      <td>...</td>\n",
       "      <td>...</td>\n",
       "      <td>...</td>\n",
       "      <td>...</td>\n",
       "      <td>...</td>\n",
       "      <td>...</td>\n",
       "      <td>...</td>\n",
       "      <td>...</td>\n",
       "      <td>...</td>\n",
       "      <td>...</td>\n",
       "      <td>...</td>\n",
       "    </tr>\n",
       "    <tr>\n",
       "      <th>81174</th>\n",
       "      <td>VARIG - VIAÇÃO AÉREA RIO-GRANDENSE</td>\n",
       "      <td>2006</td>\n",
       "      <td>2</td>\n",
       "      <td>SBPA</td>\n",
       "      <td>PORTO ALEGRE</td>\n",
       "      <td>RS</td>\n",
       "      <td>SUL</td>\n",
       "      <td>BRASIL</td>\n",
       "      <td>AMÉRICA DO SUL</td>\n",
       "      <td>SCEL</td>\n",
       "      <td>SANTIAGO</td>\n",
       "      <td>NaN</td>\n",
       "      <td>NaN</td>\n",
       "      <td>CHILE</td>\n",
       "      <td>AMÉRICA DO SUL</td>\n",
       "      <td>INTERNACIONAL</td>\n",
       "      <td>1891.00</td>\n",
       "      <td>1.00</td>\n",
       "      <td>279.00</td>\n",
       "      <td>2.82</td>\n",
       "      <td>SBPA - SCEL</td>\n",
       "      <td>2006-02-01</td>\n",
       "      <td>1891.00</td>\n",
       "      <td>279.00</td>\n",
       "      <td>2.82</td>\n",
       "      <td>2.00</td>\n",
       "    </tr>\n",
       "    <tr>\n",
       "      <th>81975</th>\n",
       "      <td>VARIG - VIAÇÃO AÉREA RIO-GRANDENSE</td>\n",
       "      <td>2006</td>\n",
       "      <td>7</td>\n",
       "      <td>SBSV</td>\n",
       "      <td>SALVADOR</td>\n",
       "      <td>BA</td>\n",
       "      <td>NORDESTE</td>\n",
       "      <td>BRASIL</td>\n",
       "      <td>AMÉRICA DO SUL</td>\n",
       "      <td>KMIA</td>\n",
       "      <td>MIAMI, FLORIDA</td>\n",
       "      <td>NaN</td>\n",
       "      <td>NaN</td>\n",
       "      <td>ESTADOS UNIDOS DA AMÉRICA</td>\n",
       "      <td>AMÉRICA DO NORTE</td>\n",
       "      <td>INTERNACIONAL</td>\n",
       "      <td>6257.00</td>\n",
       "      <td>1.00</td>\n",
       "      <td>243.00</td>\n",
       "      <td>8.10</td>\n",
       "      <td>SBSV - KMIA</td>\n",
       "      <td>2006-07-01</td>\n",
       "      <td>6257.00</td>\n",
       "      <td>243.00</td>\n",
       "      <td>8.10</td>\n",
       "      <td>2.00</td>\n",
       "    </tr>\n",
       "    <tr>\n",
       "      <th>82058</th>\n",
       "      <td>VARIG - VIAÇÃO AÉREA RIO-GRANDENSE</td>\n",
       "      <td>2006</td>\n",
       "      <td>9</td>\n",
       "      <td>SVMI</td>\n",
       "      <td>MAIQUETÍA, VARGAS (NEAR CARACAS)</td>\n",
       "      <td>NaN</td>\n",
       "      <td>NaN</td>\n",
       "      <td>VENEZUELA</td>\n",
       "      <td>AMÉRICA DO SUL</td>\n",
       "      <td>SBBV</td>\n",
       "      <td>BOA VISTA</td>\n",
       "      <td>RR</td>\n",
       "      <td>NORTE</td>\n",
       "      <td>BRASIL</td>\n",
       "      <td>AMÉRICA DO SUL</td>\n",
       "      <td>INTERNACIONAL</td>\n",
       "      <td>1108.00</td>\n",
       "      <td>1.00</td>\n",
       "      <td>251.00</td>\n",
       "      <td>3.83</td>\n",
       "      <td>SVMI - SBBV</td>\n",
       "      <td>2006-09-01</td>\n",
       "      <td>1108.00</td>\n",
       "      <td>251.00</td>\n",
       "      <td>3.83</td>\n",
       "      <td>2.00</td>\n",
       "    </tr>\n",
       "    <tr>\n",
       "      <th>332558</th>\n",
       "      <td>TAM LINHAS AÉREAS S.A.</td>\n",
       "      <td>2001</td>\n",
       "      <td>4</td>\n",
       "      <td>SBIL</td>\n",
       "      <td>ILHÉUS</td>\n",
       "      <td>BA</td>\n",
       "      <td>NORDESTE</td>\n",
       "      <td>BRASIL</td>\n",
       "      <td>AMÉRICA DO SUL</td>\n",
       "      <td>SBBH</td>\n",
       "      <td>BELO HORIZONTE</td>\n",
       "      <td>MG</td>\n",
       "      <td>SUDESTE</td>\n",
       "      <td>BRASIL</td>\n",
       "      <td>AMÉRICA DO SUL</td>\n",
       "      <td>DOMÉSTICA</td>\n",
       "      <td>765.00</td>\n",
       "      <td>1.00</td>\n",
       "      <td>108.00</td>\n",
       "      <td>1.60</td>\n",
       "      <td>SBIL - SBBH</td>\n",
       "      <td>2001-04-01</td>\n",
       "      <td>765.00</td>\n",
       "      <td>108.00</td>\n",
       "      <td>1.60</td>\n",
       "      <td>2.00</td>\n",
       "    </tr>\n",
       "    <tr>\n",
       "      <th>181469</th>\n",
       "      <td>TRIP SERVIÇOS DE SUPORTE AÉREO S.A (EX. TRIP L...</td>\n",
       "      <td>2013</td>\n",
       "      <td>1</td>\n",
       "      <td>SBTU</td>\n",
       "      <td>TUCURUÍ</td>\n",
       "      <td>PA</td>\n",
       "      <td>NORTE</td>\n",
       "      <td>BRASIL</td>\n",
       "      <td>AMÉRICA DO SUL</td>\n",
       "      <td>SBMA</td>\n",
       "      <td>MARABÁ</td>\n",
       "      <td>PA</td>\n",
       "      <td>NORTE</td>\n",
       "      <td>BRASIL</td>\n",
       "      <td>AMÉRICA DO SUL</td>\n",
       "      <td>DOMÉSTICA</td>\n",
       "      <td>188.00</td>\n",
       "      <td>1.00</td>\n",
       "      <td>68.00</td>\n",
       "      <td>1.88</td>\n",
       "      <td>SBTU - SBMA</td>\n",
       "      <td>2013-01-01</td>\n",
       "      <td>188.00</td>\n",
       "      <td>68.00</td>\n",
       "      <td>1.88</td>\n",
       "      <td>2.00</td>\n",
       "    </tr>\n",
       "  </tbody>\n",
       "</table>\n",
       "<p>366265 rows × 26 columns</p>\n",
       "</div>"
      ],
      "text/plain": [
       "                                             empresa_nome   ano  mes aeroporto_de_origem_sigla          aeroporto_de_origem_nome aeroporto_de_origem_uf aeroporto_de_origem_regiao aeroporto_de_origem_pais aeroporto_de_origem_continente aeroporto_de_destino_sigla aeroporto_de_destino_nome aeroporto_de_destino_uf aeroporto_de_destino_regiao  aeroporto_de_destino_pais aeroporto_de_destino_continente       natureza  distancia_voada_km  decolagens  assentos  horas_voadas         rota       date  distancia_voada_km_por_voo  assentos_por_voo  horas_voadas_por_voo  passageiros\n",
       "274034                             TAM LINHAS AÉREAS S.A.  2019   12                      SBSP                         SÃO PAULO                     SP                    SUDESTE                   BRASIL                 AMÉRICA DO SUL                       SBRJ            RIO DE JANEIRO                      RJ                     SUDESTE                     BRASIL                  AMÉRICA DO SUL      DOMÉSTICA           256566.00      701.00 107394.00        694.67  SBSP - SBRJ 2019-12-01                      366.00            153.20                  0.99     93719.00\n",
       "270531                             TAM LINHAS AÉREAS S.A.  2019    1                      SBRJ                    RIO DE JANEIRO                     RJ                    SUDESTE                   BRASIL                 AMÉRICA DO SUL                       SBSP                 SÃO PAULO                      SP                     SUDESTE                     BRASIL                  AMÉRICA DO SUL      DOMÉSTICA           262788.00      718.00 103392.00        728.46  SBRJ - SBSP 2019-01-01                      366.00            144.00                  1.01     93347.00\n",
       "273380                             TAM LINHAS AÉREAS S.A.  2019   10                      SBRJ                    RIO DE JANEIRO                     RJ                    SUDESTE                   BRASIL                 AMÉRICA DO SUL                       SBSP                 SÃO PAULO                      SP                     SUDESTE                     BRASIL                  AMÉRICA DO SUL      DOMÉSTICA           267546.00      731.00 105414.00        754.91  SBRJ - SBSP 2019-10-01                      366.00            144.21                  1.03     92828.00\n",
       "281404                             TAM LINHAS AÉREAS S.A.  2020    1                      SBRJ                    RIO DE JANEIRO                     RJ                    SUDESTE                   BRASIL                 AMÉRICA DO SUL                       SBSP                 SÃO PAULO                      SP                     SUDESTE                     BRASIL                  AMÉRICA DO SUL      DOMÉSTICA           253638.00      693.00 106470.00        718.77  SBRJ - SBSP 2020-01-01                      366.00            153.64                  1.04     91898.00\n",
       "191769  GOL LINHAS AÉREAS S.A. (EX- VRG LINHAS AÉREAS ...  2014    9                      SBRJ                    RIO DE JANEIRO                     RJ                    SUDESTE                   BRASIL                 AMÉRICA DO SUL                       SBSP                 SÃO PAULO                      SP                     SUDESTE                     BRASIL                  AMÉRICA DO SUL      DOMÉSTICA           294630.00      805.00 142407.00        798.60  SBRJ - SBSP 2014-09-01                      366.00            176.90                  0.99     91515.00\n",
       "...                                                   ...   ...  ...                       ...                               ...                    ...                        ...                      ...                            ...                        ...                       ...                     ...                         ...                        ...                             ...            ...                 ...         ...       ...           ...          ...        ...                         ...               ...                   ...          ...\n",
       "81174                  VARIG - VIAÇÃO AÉREA RIO-GRANDENSE  2006    2                      SBPA                      PORTO ALEGRE                     RS                        SUL                   BRASIL                 AMÉRICA DO SUL                       SCEL                  SANTIAGO                     NaN                         NaN                      CHILE                  AMÉRICA DO SUL  INTERNACIONAL             1891.00        1.00    279.00          2.82  SBPA - SCEL 2006-02-01                     1891.00            279.00                  2.82         2.00\n",
       "81975                  VARIG - VIAÇÃO AÉREA RIO-GRANDENSE  2006    7                      SBSV                          SALVADOR                     BA                   NORDESTE                   BRASIL                 AMÉRICA DO SUL                       KMIA            MIAMI, FLORIDA                     NaN                         NaN  ESTADOS UNIDOS DA AMÉRICA                AMÉRICA DO NORTE  INTERNACIONAL             6257.00        1.00    243.00          8.10  SBSV - KMIA 2006-07-01                     6257.00            243.00                  8.10         2.00\n",
       "82058                  VARIG - VIAÇÃO AÉREA RIO-GRANDENSE  2006    9                      SVMI  MAIQUETÍA, VARGAS (NEAR CARACAS)                    NaN                        NaN                VENEZUELA                 AMÉRICA DO SUL                       SBBV                 BOA VISTA                      RR                       NORTE                     BRASIL                  AMÉRICA DO SUL  INTERNACIONAL             1108.00        1.00    251.00          3.83  SVMI - SBBV 2006-09-01                     1108.00            251.00                  3.83         2.00\n",
       "332558                             TAM LINHAS AÉREAS S.A.  2001    4                      SBIL                            ILHÉUS                     BA                   NORDESTE                   BRASIL                 AMÉRICA DO SUL                       SBBH            BELO HORIZONTE                      MG                     SUDESTE                     BRASIL                  AMÉRICA DO SUL      DOMÉSTICA              765.00        1.00    108.00          1.60  SBIL - SBBH 2001-04-01                      765.00            108.00                  1.60         2.00\n",
       "181469  TRIP SERVIÇOS DE SUPORTE AÉREO S.A (EX. TRIP L...  2013    1                      SBTU                           TUCURUÍ                     PA                      NORTE                   BRASIL                 AMÉRICA DO SUL                       SBMA                    MARABÁ                      PA                       NORTE                     BRASIL                  AMÉRICA DO SUL      DOMÉSTICA              188.00        1.00     68.00          1.88  SBTU - SBMA 2013-01-01                      188.00             68.00                  1.88         2.00\n",
       "\n",
       "[366265 rows x 26 columns]"
      ]
     },
     "execution_count": 15,
     "metadata": {},
     "output_type": "execute_result"
    }
   ],
   "source": [
    "df2.sort_values('passageiros', ascending=False)"
   ]
  },
  {
   "cell_type": "markdown",
   "metadata": {},
   "source": [
    "- distancia_voada_km -> OK\n",
    "- decolagens -> OK\n",
    "- assentos -> OK\n",
    "- horas_voadas -> OK\n",
    "- passageiros_pagos\t -> OK"
   ]
  },
  {
   "attachments": {},
   "cell_type": "markdown",
   "metadata": {},
   "source": [
    "## <font color='darkorange'>  2.2. Categorical Analysis"
   ]
  },
  {
   "cell_type": "code",
   "execution_count": 16,
   "metadata": {},
   "outputs": [],
   "source": [
    "# Split strings nas colunas aeroporto nome\n",
    "df2 = split_names(df2)\n",
    "\n",
    "# Aplica transformações nas strings\n",
    "df2 = unicode_text(df2)"
   ]
  },
  {
   "attachments": {},
   "cell_type": "markdown",
   "metadata": {},
   "source": [
    " ### <font color='darkorange'> aeroporto_de_origem_sigla"
   ]
  },
  {
   "cell_type": "code",
   "execution_count": 17,
   "metadata": {},
   "outputs": [
    {
     "name": "stdout",
     "output_type": "stream",
     "text": [
      "Numero de Origem Siglas: 387\n",
      "\n",
      "Percentual de Origem Siglas: \n",
      "SBGR   0.08\n",
      "SBBR   0.07\n",
      "SBSP   0.05\n",
      "SBGL   0.04\n",
      "SBSV   0.04\n",
      "       ... \n",
      "MMGL   0.00\n",
      "SWPH   0.00\n",
      "SNFO   0.00\n",
      "SNPY   0.00\n",
      "SNVV   0.00\n",
      "Name: aeroporto_de_origem_sigla, Length: 387, dtype: float64\n"
     ]
    }
   ],
   "source": [
    "univariate_categorical( df2.aeroporto_de_origem_sigla, 'Origem Siglas')"
   ]
  },
  {
   "attachments": {},
   "cell_type": "markdown",
   "metadata": {},
   "source": [
    " ### <font color='darkorange'> aeroporto_de_origem_nome"
   ]
  },
  {
   "cell_type": "code",
   "execution_count": 18,
   "metadata": {},
   "outputs": [
    {
     "name": "stdout",
     "output_type": "stream",
     "text": [
      "Numero de Origem Nomes: 333\n",
      "\n",
      "Percentual de Origem Nomes: \n",
      "GUARULHOS        0.08\n",
      "BRASILIA         0.07\n",
      "RIO DE JANEIRO   0.07\n",
      "SAO PAULO        0.05\n",
      "SALVADOR         0.04\n",
      "                 ... \n",
      "GUAYAQUIL        0.00\n",
      "WILLEMSTAD       0.00\n",
      "WINDSOR LOCKS    0.00\n",
      "ALFENAS          0.00\n",
      "FORMIGA          0.00\n",
      "Name: aeroporto_de_origem_nome, Length: 333, dtype: float64\n"
     ]
    }
   ],
   "source": [
    "univariate_categorical( df2.aeroporto_de_origem_nome, 'Origem Nomes')"
   ]
  },
  {
   "cell_type": "markdown",
   "metadata": {},
   "source": [
    "- O numero de nomes é diferente do numero de siglas isso se deve a ter aeroportos de mesmo nome e siglas diferentes"
   ]
  },
  {
   "attachments": {},
   "cell_type": "markdown",
   "metadata": {},
   "source": [
    "  ### <font color='darkorange'> aeroporto_de_origem_uf"
   ]
  },
  {
   "cell_type": "code",
   "execution_count": 19,
   "metadata": {},
   "outputs": [
    {
     "name": "stdout",
     "output_type": "stream",
     "text": [
      "Numero de Origem UF: 53\n",
      "\n",
      "Percentual de Origem UF: \n",
      "SP                            0.20\n",
      "MG                            0.07\n",
      "BA                            0.07\n",
      "RJ                            0.07\n",
      "DF                            0.07\n",
      "                              ... \n",
      "NEVADA                        0.00\n",
      "LOUISIANA                     0.00\n",
      "QUERETARO                     0.00\n",
      "FORT-DE-FRANCE                0.00\n",
      "CONNECTICUT (NEAR HARTFORD)   0.00\n",
      "Name: aeroporto_de_origem_uf, Length: 53, dtype: float64\n"
     ]
    }
   ],
   "source": [
    "univariate_categorical( df2.aeroporto_de_origem_uf, 'Origem UF')"
   ]
  },
  {
   "attachments": {},
   "cell_type": "markdown",
   "metadata": {},
   "source": [
    "  ### <font color='darkorange'> aeroporto_de_destino_sigla\n"
   ]
  },
  {
   "cell_type": "code",
   "execution_count": 20,
   "metadata": {},
   "outputs": [
    {
     "name": "stdout",
     "output_type": "stream",
     "text": [
      "Numero de Destino Sigla: 399\n",
      "\n",
      "Percentual de Destino Sigla: \n",
      "SBGR   0.09\n",
      "SBBR   0.07\n",
      "SBSP   0.05\n",
      "SBGL   0.05\n",
      "SBSV   0.04\n",
      "       ... \n",
      "KEWR   0.00\n",
      "SISO   0.00\n",
      "SNVR   0.00\n",
      "SNFO   0.00\n",
      "MKJP   0.00\n",
      "Name: aeroporto_de_destino_sigla, Length: 399, dtype: float64\n"
     ]
    }
   ],
   "source": [
    "univariate_categorical( df2.aeroporto_de_destino_sigla, 'Destino Sigla')"
   ]
  },
  {
   "attachments": {},
   "cell_type": "markdown",
   "metadata": {},
   "source": [
    "  ### <font color='darkorange'> aeroporto_de_destino_nome\n"
   ]
  },
  {
   "cell_type": "code",
   "execution_count": null,
   "metadata": {},
   "outputs": [],
   "source": [
    "univariate_categorical( df2.aeroporto_de_destino_nome, 'Destino Nome')"
   ]
  },
  {
   "attachments": {},
   "cell_type": "markdown",
   "metadata": {},
   "source": [
    "  ### <font color='darkorange'> aeroporto_de_destino_uf\n"
   ]
  },
  {
   "cell_type": "code",
   "execution_count": null,
   "metadata": {},
   "outputs": [],
   "source": [
    "univariate_categorical( df2.aeroporto_de_destino_uf, 'Destino UF')"
   ]
  },
  {
   "attachments": {},
   "cell_type": "markdown",
   "metadata": {},
   "source": [
    "  ### <font color='darkorange'> natureza"
   ]
  },
  {
   "cell_type": "code",
   "execution_count": null,
   "metadata": {},
   "outputs": [],
   "source": [
    "univariate_categorical( df2.natureza, 'Natureza')"
   ]
  },
  {
   "attachments": {},
   "cell_type": "markdown",
   "metadata": {},
   "source": [
    " ### <font color='darkorange'> <font color='darkorange'>  2.  Bivariate Analysis"
   ]
  },
  {
   "cell_type": "code",
   "execution_count": null,
   "metadata": {},
   "outputs": [],
   "source": [
    "# ANO\n",
    "sns.lineplot(data=df2, x='ano', y='passageiros');\n",
    "plt.title('Passageiros por ano',fontsize=15)\n",
    "plt.ylabel('Numero de passageiros');"
   ]
  },
  {
   "cell_type": "code",
   "execution_count": null,
   "metadata": {},
   "outputs": [],
   "source": [
    "# mes\n",
    "sns.lineplot(data=df2, x='mes', y='passageiros');\n",
    "plt.title('Passageiros por mes',fontsize=15)\n",
    "plt.ylabel('Numero de passageiros');"
   ]
  },
  {
   "cell_type": "code",
   "execution_count": null,
   "metadata": {},
   "outputs": [],
   "source": [
    "# aeroporto_de_origem_uf\n",
    "aux = (df2.groupby('aeroporto_de_origem_uf')[['passageiros']].sum().sort_values('passageiros',ascending=False)\n",
    "                                                                     .reset_index())\n",
    "\n",
    "sns.barplot(data=aux, x='passageiros', y='aeroporto_de_origem_uf', palette='Set2', order=aux.aeroporto_de_origem_uf);\n",
    "\n",
    "plt.title('Passageiros por estado - Origem', fontsize=15)\n",
    "plt.ylabel('Estados')\n",
    "plt.xlabel('Numero de passageiros');"
   ]
  },
  {
   "cell_type": "code",
   "execution_count": null,
   "metadata": {},
   "outputs": [],
   "source": [
    "# aeroporto_de_destino_uf\n",
    "aux = (df2.groupby('aeroporto_de_destino_uf')[['passageiros']].sum().sort_values('passageiros',ascending=False)\n",
    "                                                                     .reset_index())\n",
    "\n",
    "sns.barplot(data=aux, x='passageiros', y='aeroporto_de_destino_uf', palette='Set2', order=aux.aeroporto_de_destino_uf);\n",
    "\n",
    "plt.title('Passageiros por estado - Destino', fontsize=15)\n",
    "plt.ylabel('Estados')\n",
    "plt.xlabel('Numero de passageiros');"
   ]
  },
  {
   "cell_type": "code",
   "execution_count": null,
   "metadata": {},
   "outputs": [],
   "source": [
    "# natureza\n",
    "sns.violinplot(data=df2, y='passageiros', x='natureza')\n",
    "plt.title('Distribuição de passageiros por natureza de voo', fontsize=15)\n",
    "plt.ylabel('Numero de passageiros');"
   ]
  },
  {
   "cell_type": "code",
   "execution_count": null,
   "metadata": {},
   "outputs": [],
   "source": [
    "# distancia_voada_km\n",
    "fig, axes = plt.subplots(nrows=1, ncols=2, figsize=(25, 8))\n",
    "axes[0].set_position([0.1, 0.1, 0.43, 0.8])  # Set the size\n",
    "\n",
    "sns.scatterplot(data=df2, x='distancia_voada_km', y='passageiros', ax=axes[0])\n",
    "axes[0].set_title('Distancia Voada em KM x Numero de passageiros', fontsize=20)\n",
    "axes[0].set_xlabel('Distancia Voada em KM')\n",
    "axes[0].set_ylabel('Numero de passageiros')\n",
    "\n",
    "aux = df2[['passageiros', 'distancia_voada_km']].corr(method='pearson')\n",
    "sns.heatmap(aux, annot=True, ax=axes[1])\n",
    "axes[1].set_title('Correlação Passageiros e distancia voada', fontsize=15)\n",
    "\n",
    "plt.show()"
   ]
  },
  {
   "cell_type": "code",
   "execution_count": null,
   "metadata": {},
   "outputs": [],
   "source": [
    "fig, axes = plt.subplots(nrows=1, ncols=2, figsize=(25, 8))\n",
    "axes[0].set_position([0.1, 0.1, 0.43, 0.8])  # Set the size\n",
    "\n",
    "sns.scatterplot(data=df2, x='distancia_voada_km', y='passageiros', ax=axes[0])\n",
    "axes[0].set_title('Distancia Voada em KM x Numero de passageiros', fontsize=20)\n",
    "axes[0].set_xlabel('Distancia Voada em KM')\n",
    "axes[0].set_ylabel('Numero de passageiros')\n",
    "\n",
    "# Correlacao Pearson\n",
    "aux = df2[['passageiros', 'distancia_voada_km']].corr(method='pearson')\n",
    "sns.heatmap(aux, annot=True, ax=axes[1])\n",
    "axes[1].set_title('Correlação Passageiros e distancia voada', fontsize=20)\n",
    "\n",
    "plt.show()\n"
   ]
  },
  {
   "cell_type": "code",
   "execution_count": null,
   "metadata": {},
   "outputs": [],
   "source": [
    "# decolagens\n",
    "fig, axes = plt.subplots(nrows=1, ncols=2, figsize=(25, 8))\n",
    "axes[0].set_position([0.1, 0.1, 0.43, 0.8])  # Set the size\n",
    "\n",
    "sns.scatterplot(data=df2, x='decolagens', y='passageiros', ax=axes[0])\n",
    "axes[0].set_title('Decolagens x Numero de passageiros', fontsize=20)\n",
    "axes[0].set_xlabel('Decolagens')\n",
    "axes[0].set_ylabel('Numero de passageiros')\n",
    "\n",
    "# Correlacao Pearson\n",
    "aux = df2[['passageiros', 'decolagens']].corr(method='pearson')\n",
    "sns.heatmap(aux, annot=True, ax=axes[1])\n",
    "axes[1].set_title('Correlação Passageiros e Decolagens', fontsize=20)\n",
    "\n",
    "plt.show()"
   ]
  },
  {
   "cell_type": "code",
   "execution_count": null,
   "metadata": {},
   "outputs": [],
   "source": [
    "# assentos\n",
    "fig, axes = plt.subplots(nrows=1, ncols=2, figsize=(25, 8))\n",
    "axes[0].set_position([0.1, 0.1, 0.43, 0.8])  # Set the size\n",
    "\n",
    "sns.scatterplot(data=df2, x='assentos', y='passageiros', ax=axes[0])\n",
    "axes[0].set_title('Assentos x Numero de passageiros', fontsize=20)\n",
    "axes[0].set_xlabel('Assentos')\n",
    "axes[0].set_ylabel('Numero de passageiros')\n",
    "\n",
    "# Correlacao Pearson\n",
    "aux = df2[['passageiros', 'assentos']].corr(method='pearson')\n",
    "sns.heatmap(aux, annot=True, ax=axes[1])\n",
    "axes[1].set_title('Correlação Passageiros e Assentos', fontsize=20)\n",
    "\n",
    "plt.show()"
   ]
  },
  {
   "cell_type": "code",
   "execution_count": null,
   "metadata": {},
   "outputs": [],
   "source": [
    "# horas_voadas\n",
    "fig, axes = plt.subplots(nrows=1, ncols=2, figsize=(25, 8))\n",
    "axes[0].set_position([0.1, 0.1, 0.43, 0.8])  # Set the size\n",
    "\n",
    "sns.scatterplot(data=df2, x='horas_voadas', y='passageiros', ax=axes[0])\n",
    "axes[0].set_title('Horas voadas x Numero de passageiros', fontsize=20)\n",
    "axes[0].set_xlabel('Horas voadas')\n",
    "axes[0].set_ylabel('Numero de passageiros')\n",
    "\n",
    "# Correlacao Pearson\n",
    "aux = df2[['passageiros', 'horas_voadas']].corr(method='pearson')\n",
    "sns.heatmap(aux, annot=True, ax=axes[1])\n",
    "axes[1].set_title('Correlação Passageiros e Horas voadas', fontsize=20)\n",
    "\n",
    "plt.show()"
   ]
  },
  {
   "cell_type": "code",
   "execution_count": null,
   "metadata": {},
   "outputs": [],
   "source": [
    "# date\n",
    "fig, ax = plt.subplots(figsize=(16,8))\n",
    "sns.lineplot(data=df2, x='date', y='passageiros', ax=ax);\n",
    "plt.title('Passageiros por date',fontsize=15)\n",
    "plt.ylabel('Numero de passageiros');\n",
    "ax.axvline(pd.to_datetime('2020-01-01'), color='black', ls='--');"
   ]
  },
  {
   "cell_type": "code",
   "execution_count": null,
   "metadata": {},
   "outputs": [],
   "source": [
    "# date\n",
    "fig, ax = plt.subplots(figsize=(16,8))\n",
    "sns.lineplot(data=df2.query(\"ano >= 2019\"), x='date', y='passageiros', ax=ax);\n",
    "plt.title('Passageiros por date',fontsize=15)\n",
    "plt.ylabel('Numero de passageiros');\n",
    "ax.axvline(pd.to_datetime('2020-01-01'), color='black', ls='--');\n",
    "ax.axvline(pd.to_datetime('2021-07-01'), color='black', ls='--');"
   ]
  },
  {
   "cell_type": "markdown",
   "metadata": {},
   "source": [
    "- O gap causado pela covid é um ponto muito importante para esta modelagem"
   ]
  },
  {
   "attachments": {},
   "cell_type": "markdown",
   "metadata": {},
   "source": [
    " ### <font color='darkorange'> <font color='darkorange'>  2.4. Time Series Analysis"
   ]
  },
  {
   "cell_type": "code",
   "execution_count": null,
   "metadata": {},
   "outputs": [],
   "source": [
    "time_series = train.groupby('date')[['passageiros']].sum()\n",
    "df_time_series = time_series.reset_index()"
   ]
  },
  {
   "cell_type": "code",
   "execution_count": null,
   "metadata": {},
   "outputs": [],
   "source": [
    "from statsmodels.tsa.seasonal import STL\n",
    "from statsmodels.tsa.stattools import adfuller\n",
    "from statsmodels.graphics.tsaplots import plot_acf, plot_pacf\n",
    "import math"
   ]
  },
  {
   "cell_type": "code",
   "execution_count": null,
   "metadata": {},
   "outputs": [],
   "source": [
    "decomp = STL(time_series, period=12).fit()\n",
    "\n",
    "fig, (ax1, ax2, ax3, ax4) = plt.subplots(nrows=4, ncols=1, sharex=True)\n",
    "\n",
    "ax1.plot(decomp.observed)\n",
    "ax1.set_ylabel('Observed')\n",
    "\n",
    "ax2.plot(decomp.trend)\n",
    "ax2.set_ylabel('Trend')\n",
    "\n",
    "ax plot(decomp.seasonal)\n",
    "ax set_ylabel('Seasonal')\n",
    "\n",
    "ax4.plot(decomp.resid)\n",
    "ax4.set_ylabel('Residuals');"
   ]
  },
  {
   "attachments": {},
   "cell_type": "markdown",
   "metadata": {},
   "source": [
    "## <font color='darkorange'>    Data Cleaning"
   ]
  },
  {
   "cell_type": "code",
   "execution_count": null,
   "metadata": {},
   "outputs": [],
   "source": [
    "after_covid = pd.to_datetime('2021-01-01')\n",
    "train_after_covid = train.query('date > @after_covid')\n",
    "\n",
    "X_train = train_after_covid.copy()\n",
    "X_train = X_train.sort_values('date').reset_index(drop=True)\n",
    "y_train = train_after_covid.passageiros.copy()\n",
    "\n",
    "print( X_train.shape, y_train.shape )\n",
    "X_test = test.copy()\n",
    "y_test = test.passageiros.copy()\n",
    "\n",
    "print( X_test.shape, y_test.shape )"
   ]
  },
  {
   "cell_type": "code",
   "execution_count": null,
   "metadata": {},
   "outputs": [],
   "source": [
    "from sklearn.base             import BaseEstimator, TransformerMixin\n",
    "import pandas as pd\n",
    "import numpy as np\n",
    "\n",
    "class DataCleaning(BaseEstimator, TransformerMixin):\n",
    "    def __init__(self):\n",
    "        pass\n",
    "    \n",
    "    def fit(self, X, y=None):\n",
    "        return self\n",
    "    \n",
    "    def transform(self, X, y=None):\n",
    "        X = self.split_names(X)\n",
    "        X = self.unicode_text(X)\n",
    "        \n",
    "        return X\n",
    "    \n",
    "    def split_names(self, data):\n",
    "\n",
    "        \"\"\"\n",
    "        Split the airport names into airport name and corresponding state abbreviation.\n",
    "\n",
    "        Args:\n",
    "            data (DataFrame): Input DataFrame with columns 'aeroporto_de_origem_nome' and 'aeroporto_de_destino_nome'.\n",
    "\n",
    "        Returns:\n",
    "            DataFrame: Modified input DataFrame with additional columns 'aeroporto_de_origem_uf' and 'aeroporto_de_destino_uf'.\n",
    "                       The 'aeroporto_de_origem_nome' and 'aeroporto_de_destino_nome' columns are updated to contain only the airport names.\n",
    "                       The 'aeroporto_de_origem_uf' and 'aeroporto_de_destino_uf' columns are converted to the 'category' data type.\n",
    "        \"\"\"\n",
    "\n",
    "        # Origem\n",
    "        aeroporto_de_origem_uf = pd.DataFrame( data.aeroporto_de_origem_nome.str.split(',').str[1] )\n",
    "        aeroporto_de_origem_uf = aeroporto_de_origem_uf.rename(columns={'aeroporto_de_origem_nome': 'aeroporto_de_origem_uf'})\n",
    "        uf_completo = pd.DataFrame( data.aeroporto_de_origem_uf )\n",
    "        uf_completo.update(aeroporto_de_origem_uf)\n",
    "        data.aeroporto_de_origem_uf = uf_completo.astype('category')\n",
    "        data.aeroporto_de_origem_nome = data.aeroporto_de_origem_nome.str.split(',').str[0].astype('category')\n",
    "\n",
    "        # Destino\n",
    "        aeroporto_de_destino_uf = pd.DataFrame( data.aeroporto_de_destino_nome.str.split(',').str[1] )\n",
    "        aeroporto_de_destino_uf = aeroporto_de_destino_uf.rename(columns={'aeroporto_de_destino_nome': 'aeroporto_de_destino_uf'})\n",
    "        uf_completo = pd.DataFrame( data.aeroporto_de_destino_uf )\n",
    "        uf_completo.update(aeroporto_de_destino_uf)\n",
    "        data.aeroporto_de_destino_uf = uf_completo.astype('category')\n",
    "        data.aeroporto_de_destino_nome = data.aeroporto_de_destino_nome.str.split(',').str[0].astype('category')\n",
    "\n",
    "        return data\n",
    "\n",
    "    def unicode_text(self, data ):\n",
    "        \"\"\"\n",
    "        Transforme the text - strip and unidecode.\n",
    "        \"\"\"\n",
    "\n",
    "        for col in data.select_dtypes(include=['category']).columns:\n",
    "            data[col] = data[col].astype(str).str.strip().apply(lambda x: unidecode(x))\n",
    "            data[col] = data[col].astype('category')\n",
    "\n",
    "        return data"
   ]
  },
  {
   "cell_type": "code",
   "execution_count": null,
   "metadata": {},
   "outputs": [],
   "source": [
    "clean_pipe = Pipeline([('DataCleaning', DataCleaning())])\n",
    "clean_pipe"
   ]
  },
  {
   "cell_type": "code",
   "execution_count": null,
   "metadata": {},
   "outputs": [],
   "source": [
    "X_train = clean_pipe.fit_transform(X_train)\n",
    "X_test = clean_pipe.transform(X_test)\n",
    "\n",
    "X_train.head(2)"
   ]
  },
  {
   "attachments": {},
   "cell_type": "markdown",
   "metadata": {},
   "source": [
    "## <font color='darkorange'>  4. Feature Engineering"
   ]
  },
  {
   "cell_type": "code",
   "execution_count": null,
   "metadata": {},
   "outputs": [],
   "source": [
    "from sklearn.base             import BaseEstimator, TransformerMixin\n",
    "from dateutil.relativedelta import relativedelta\n",
    "import pandas as pd\n",
    "\n",
    "class FeatureEngineering(BaseEstimator, TransformerMixin):\n",
    "    def __init__(self):\n",
    "        pass\n",
    "    \n",
    "    def fit(self, X, y=None):\n",
    "        X = self.lag_features(X)\n",
    "        X = self.new_features(X)\n",
    "        X = X.drop(columns=['passageiros', 'date'])\n",
    "        return X\n",
    "    \n",
    "    def fit_transform(self, X, y=None):\n",
    "        X = self.lag_features(X)\n",
    "        X = self.new_features(X)\n",
    "        X = X.drop(columns=['passageiros', 'date'])\n",
    "        return X\n",
    "\n",
    "    def transform(self, X, y=None):\n",
    "        X = self.lag_transform(X)\n",
    "        X = self.new_features(X)\n",
    "        X = X.drop(columns=['passageiros', 'date'])\n",
    "        return X\n",
    "    \n",
    "    def lag_features(self, data ):\n",
    "        \"\"\"\n",
    "        Calculates the lag feature of passengers per flight for each date.\n",
    "        \"\"\"\n",
    "\n",
    "        data_copy = data.copy()\n",
    "        data_copy['passageiros_voo'] = data_copy.passageiros / data_copy.decolagens\n",
    "        rolagem = data_copy.groupby('date')[['passageiros_voo']].sum().reset_index()\n",
    "\n",
    "        self.lag_year = rolagem.copy()\n",
    "        self.lag_year['date'] = self.lag_year.date.apply(lambda x: x + relativedelta(years=1))\n",
    "        self.lag_year = self.lag_year.rename(columns={'passageiros_voo': 'lag_year'})\n",
    "\n",
    "        data = data.merge(self.lag_year, how ='left', on='date')\n",
    "        data = data.sort_values('date')\n",
    "        \n",
    "        return data\n",
    "    \n",
    "    def lag_transform(self, data ):\n",
    "        \"\"\"\n",
    "        Apply lag features.\n",
    "        \"\"\"\n",
    "        data = data.merge(self.lag_year, how ='left', on='date')\n",
    "        data = data.sort_values('date')\n",
    "        \n",
    "        return data\n",
    "    \n",
    "    def new_features(self, data):\n",
    "        \"\"\"\n",
    "        Create new features.\n",
    "        \"\"\"\n",
    "\n",
    "        data['rota'] = data.aeroporto_de_origem_sigla.astype(str) + \" - \" + data.aeroporto_de_destino_sigla.astype(str)\n",
    "\n",
    "        data['distancia_voada_km_por_voo'] = data.distancia_voada_km / data.decolagens\n",
    "        data['assentos_por_voo'] = data.assentos / data.decolagens\n",
    "        data['horas_voadas_por_voo'] = data.horas_voadas / data.decolagens\n",
    "\n",
    "        # FEATURES ENGINEERING FOR TIME SERIES\n",
    "        data[\"mes_sin\"] = data.mes.apply(lambda x: np.sin(x * (2. * np.pi / 12)))\n",
    "        data[\"mes_cos\"] = data.mes.apply(lambda x: np.cos(x * (2. * np.pi / 12)))\n",
    "\n",
    "        #LAG features\n",
    "        data.lag_year = data.lag_year * data.decolagens\n",
    "        min_value = data.lag_year.min()\n",
    "        data.lag_year = data.lag_year.fillna(min_value)\n",
    "        return data"
   ]
  },
  {
   "cell_type": "code",
   "execution_count": null,
   "metadata": {},
   "outputs": [],
   "source": [
    "feat_pipe = Pipeline([('FeatureEngineering', FeatureEngineering())])\n",
    "feat_pipe"
   ]
  },
  {
   "cell_type": "code",
   "execution_count": null,
   "metadata": {},
   "outputs": [],
   "source": [
    "X_train = feat_pipe.fit_transform(X_train)\n",
    "X_test = feat_pipe.transform(X_test)\n",
    "\n",
    "X_train.tail(2)"
   ]
  },
  {
   "attachments": {},
   "cell_type": "markdown",
   "metadata": {},
   "source": [
    "## <font color='darkorange'>  5. Pre Processing"
   ]
  },
  {
   "cell_type": "code",
   "execution_count": null,
   "metadata": {},
   "outputs": [],
   "source": [
    "num_cols = X_train.select_dtypes(include=['int', 'float']).columns\n",
    "\n",
    "cat_cols = X_train.select_dtypes(exclude=['int', 'float']).columns\n",
    "\n",
    "numerical_pipe = Pipeline([(\"Numerical_Imputer\", SimpleImputer(missing_values=np.nan, strategy=\"constant\", fill_value=0)),\n",
    "                           (\"Numerical_PreProcessing\", StandardScaler())])\n",
    "\n",
    "categorical_pipe = Pipeline([(\"Categorical_Imputer\", SimpleImputer(missing_values=np.nan, strategy=\"most_frequent\")),\n",
    "                             (\"Categorical_PreProcessing\", CountEncoder())])\n",
    "\n",
    "\n",
    "linear_preprocessing = ColumnTransformer([(\"Numerical\"  , numerical_pipe, num_cols),\n",
    "                                        (\"Categorical\", categorical_pipe, cat_cols)])\n",
    "linear_preprocessing"
   ]
  },
  {
   "cell_type": "code",
   "execution_count": null,
   "metadata": {},
   "outputs": [],
   "source": [
    "num_cols = X_train.select_dtypes(include=['int', 'float']).columns\n",
    "\n",
    "cat_cols = X_train.select_dtypes(exclude=['int', 'float']).columns\n",
    "\n",
    "numerical_pipe = Pipeline([(\"Numerical_Imputer\", SimpleImputer(missing_values=np.nan, strategy=\"constant\", fill_value=0))])\n",
    "\n",
    "categorical_pipe = Pipeline([(\"Categorical_Imputer\", SimpleImputer(missing_values=np.nan, strategy=\"most_frequent\")),\n",
    "                             (\"Categorical_PreProcessing\", CountEncoder())])\n",
    "\n",
    "\n",
    "tree_preprocessing = ColumnTransformer([(\"Numerical_Transformations\"  , numerical_pipe, num_cols),\n",
    "                                        (\"Categorical_Transformations\", categorical_pipe, cat_cols)])\n",
    "tree_preprocessing"
   ]
  },
  {
   "cell_type": "code",
   "execution_count": null,
   "metadata": {},
   "outputs": [],
   "source": [
    "columns_name = X_train.columns\n",
    "X_train_linear = pd.DataFrame(linear_preprocessing.fit_transform(X_train), columns=columns_name)\n",
    "X_test_linear = pd.DataFrame(linear_preprocessing.transform(X_test), columns=columns_name)\n",
    "\n",
    "X_train_tree   = pd.DataFrame(tree_preprocessing.fit_transform(X_train), columns=columns_name)\n",
    "X_test_tree   = pd.DataFrame(tree_preprocessing.transform(X_test), columns=columns_name)\n",
    "\n",
    "X_train_linear"
   ]
  },
  {
   "attachments": {},
   "cell_type": "markdown",
   "metadata": {},
   "source": [
    "## <font color='darkorange'>  6. Feature Selection"
   ]
  },
  {
   "cell_type": "code",
   "execution_count": null,
   "metadata": {},
   "outputs": [],
   "source": [
    "cols_to_drop = [\"aeroporto_de_origem_nome\", \"aeroporto_de_origem_regiao\", \"aeroporto_de_origem_pais\", \n",
    "                \"aeroporto_de_origem_continente\", \"aeroporto_de_destino_nome\", \"aeroporto_de_destino_regiao\", \n",
    "                \"aeroporto_de_destino_pais\", \"aeroporto_de_destino_continente\"]\n",
    "\n",
    "X_train_tree = X_train_tree.drop(columns=cols_to_drop)\n",
    "X_test_tree  = X_test_tree.drop(columns=cols_to_drop)\n",
    "\n",
    "X_train_linear = X_train_linear.drop(columns=cols_to_drop)\n",
    "X_test_linear  = X_test_linear.drop(columns=cols_to_drop)"
   ]
  },
  {
   "cell_type": "code",
   "execution_count": null,
   "metadata": {},
   "outputs": [],
   "source": [
    "reg = xgb.XGBRegressor(n_estimators=1000, # trees\n",
    "                       early_stopping_rounds=50, # se o testset não tiver melhoria, para antes\n",
    "                       learning_rate=0.01) # taxa de aprendizado, para lidar com o overfiting\n",
    "\n",
    "reg.fit(X_train_tree, y_train,\n",
    "        eval_set=[(X_train_tree, y_train), (X_test_tree, y_test)],\n",
    "        verbose=100)"
   ]
  },
  {
   "cell_type": "code",
   "execution_count": null,
   "metadata": {},
   "outputs": [],
   "source": [
    "fi = pd.DataFrame({'Features': reg.feature_names_in_,\n",
    "                   'Importances': reg.feature_importances_})\n",
    "# plot\n",
    "ordem = fi.sort_values('Importances', ascending=False).Features\n",
    "sns.barplot(data=fi, x='Importances', y='Features', order = ordem, palette='icefire');\n",
    "plt.title('Feature Importances');"
   ]
  },
  {
   "cell_type": "code",
   "execution_count": null,
   "metadata": {},
   "outputs": [],
   "source": [
    "ss = StandardScaler()\n",
    "print(X_train_linear.shape, y_train.shape)\n",
    "# y_train_linear = ss.fit_transform(y_train)\n",
    "y_train_reshaped = np.log1p(y_train)\n",
    "y_test_reshaped = np.log1p(y_test)\n",
    "\n",
    "X_train_linear.shape, y_train_reshaped.shape"
   ]
  },
  {
   "cell_type": "code",
   "execution_count": null,
   "metadata": {},
   "outputs": [],
   "source": [
    "# Criar e ajustar o modelo de regressão linear\n",
    "model = LinearRegression()\n",
    "model.fit(X_train_linear, y_train_reshaped)\n",
    "\n",
    "# Obter os coeficientes de regressão\n",
    "coefficients = model.coef_\n",
    "\n",
    "# Criar uma lista de tuplas com os recursos e seus coeficientes correspondentes\n",
    "feature_coefficients = [(feature, coefficient) for feature, coefficient in zip(X_train_linear.columns, coefficients)]\n",
    "# Ordenar a lista com base nos coeficientes em ordem decrescente\n",
    "feature_coefficients.sort(key=lambda x: abs(x[1]), reverse=True)\n",
    "\n",
    "# Selecionar os recursos com os coeficientes mais altos\n",
    "selected_features = [feature for feature, _ in feature_coefficients[:5]]\n",
    "\n",
    "# Reajustar o modelo usando apenas os recursos selecionados\n",
    "X_train_selected = X_train_linear[selected_features]\n",
    "X_test_selected = X_test_linear[selected_features]\n",
    "\n",
    "model.fit(X_train_selected, y_train_reshaped)\n",
    "\n",
    "# Avaliar o desempenho do modelo usando R²\n",
    "y_pred = model.predict(X_test_selected)\n",
    "r2 = r2_score(y_test_reshaped, y_pred)\n",
    "\n",
    "print(\"R²:\", r2)\n",
    "\n",
    "fi_linear = pd.DataFrame(feature_coefficients, columns=['Features', 'Importances'])\n",
    "fi_linear.Importances = np.abs(fi_linear.Importances)\n",
    "\n",
    "# plot\n",
    "ordem = fi_linear.sort_values('Importances', ascending=False).Features\n",
    "sns.barplot(data=fi_linear, x='Importances', y='Features', order = ordem, palette='icefire');\n",
    "plt.title('Feature Importances');"
   ]
  },
  {
   "cell_type": "code",
   "execution_count": null,
   "metadata": {},
   "outputs": [],
   "source": [
    "fi = fi.merge(fi_linear, how='left', on='Features', suffixes=('_xbg', '_linear'))\n",
    "total = fi.Importances_linear.sum()\n",
    "fi.Importances_linear = fi.Importances_linear.apply(lambda x: x/total)\n",
    "fi['Soma'] = fi.Importances_xbg + fi.Importances_linear\n",
    "fi = fi.sort_values('Soma', ascending=False)\n",
    "fi['cumsum'] = fi.Soma.cumsum()\n",
    "fi"
   ]
  },
  {
   "cell_type": "code",
   "execution_count": null,
   "metadata": {},
   "outputs": [],
   "source": [
    "# plot\n",
    "ordem = fi.sort_values('Soma', ascending=False).Features\n",
    "\n",
    "fig, ax = plt.subplots(figsize=(8,4))\n",
    "sns.barplot(data=fi, x='Soma', y='Features', order = ordem, palette='icefire', ax=ax);\n",
    "plt.title('Feature Importances');\n",
    "ax.axvline(0.025, color='black', ls='--')\n",
    "plt.xlabel('Soma', fontsize=8)\n",
    "plt.ylabel('Features', fontsize=8)\n",
    "ax.set_xticklabels(ax.get_xticklabels(), fontsize=5);\n",
    "ax.set_yticklabels(ax.get_yticklabels(), fontsize=7, rotation=0);"
   ]
  },
  {
   "cell_type": "code",
   "execution_count": null,
   "metadata": {},
   "outputs": [],
   "source": [
    "features_selected = fi.query(\"Soma >= 0.03\").Features.tolist()\n",
    "features_selected"
   ]
  },
  {
   "attachments": {},
   "cell_type": "markdown",
   "metadata": {},
   "source": [
    "## <font color='darkorange'>  7. Model Selection"
   ]
  },
  {
   "attachments": {},
   "cell_type": "markdown",
   "metadata": {},
   "source": [
    " ### <font color='darkorange'> Load Data"
   ]
  },
  {
   "cell_type": "code",
   "execution_count": null,
   "metadata": {},
   "outputs": [],
   "source": [
    "data = pd.read_parquet('data/df2.parquet')\n",
    "\n",
    "# Selecionando somente os Voos Regulares - Já que não faz sentido prever voos irregulares\n",
    "data = data.query(\"grupo_de_voo == 'REGULAR'\")\n",
    "\n",
    "# Como algumas features são dependentes dos passageiros, e estamos tentando prever o numero de passageiros, essas features foram retiradas\n",
    "cols = [\"carga_paga_kg\", \"carga_gratis_kg\", \"correio_kg\", \"ask\", \"rpk\", \"atk\", \"rtk\", \"combustivel_litros\", \"empresa_sigla\", \"empresa_nacionalidade\", \n",
    "        \"grupo_de_voo\", \"combustivel_voo\", \"km_combustivel\", \"passageiros_gratis\", \"bagagem_kg\", \"payload\", \"carga_paga_km\", \"carga_gratis_km\", \"correio_km\", \n",
    "        \"passageiros_assentos\", \"passageiros_voo\", \"passageiros_pg_por_voo\", \"passageiros_gt_por_voo\", \"passageiros_pagos\"]\n",
    "data = data.drop(columns=cols)\n",
    "\n",
    "# Drop the data before covid\n",
    "after_covid = pd.to_datetime('2021-07-01')\n",
    "data = data.query('date >= @after_covid')\n",
    "data = data.sort_values('date')\n",
    "data = data.reset_index(drop=True)\n",
    "\n",
    "# Split train test\n",
    "train = data.query('date < \"2023-03-01\"')\n",
    "test = data.query('date >= \"2023-03-01\"')\n",
    "\n",
    "print(train.shape[0] + test.shape[0] == data.shape[0])\n",
    "print(train.shape, test.shape)"
   ]
  },
  {
   "cell_type": "code",
   "execution_count": null,
   "metadata": {},
   "outputs": [],
   "source": [
    "X_train = train.copy()\n",
    "y_train = train.passageiros.copy()\n",
    "print( X_train.shape, y_train.shape )\n",
    "\n",
    "X_test = test.copy()\n",
    "y_test = test.passageiros.copy()\n",
    "print( X_test.shape, y_test.shape )"
   ]
  },
  {
   "attachments": {},
   "cell_type": "markdown",
   "metadata": {},
   "source": [
    " ### <font color='darkorange'> Pipeline"
   ]
  },
  {
   "cell_type": "markdown",
   "metadata": {},
   "source": [
    "Os arquivos com as classes deste pipeline estao na pasta pipeline"
   ]
  },
  {
   "cell_type": "code",
   "execution_count": null,
   "metadata": {},
   "outputs": [],
   "source": [
    "import pipeline"
   ]
  },
  {
   "cell_type": "code",
   "execution_count": null,
   "metadata": {},
   "outputs": [],
   "source": [
    "cleaning_pipeline = Pipeline([('feature_engineering', pipeline.DataCleaning())])\n",
    "cleaning_pipeline"
   ]
  },
  {
   "cell_type": "code",
   "execution_count": null,
   "metadata": {},
   "outputs": [],
   "source": [
    "feature_engineering_pipeline = Pipeline([('feature_engineering', pipeline.FeatureEngineering())])\n",
    "feature_engineering_pipeline"
   ]
  },
  {
   "cell_type": "code",
   "execution_count": null,
   "metadata": {},
   "outputs": [],
   "source": [
    "num_cols = [\"ano\", \"mes\"]\n",
    "\n",
    "cat_cols = [\"aeroporto_de_destino_uf\", \"aeroporto_de_origem_uf\", \"empresa_nome\", \n",
    "            \"aeroporto_de_destino_sigla\", \"aeroporto_de_origem_sigla\"]\n",
    "\n",
    "numerical_pipe = Pipeline([(\"Numerical_Imputer\", SimpleImputer(missing_values=np.nan, strategy=\"constant\", fill_value=0))])\n",
    "\n",
    "categorical_pipe = Pipeline([(\"Categorical_Imputer\", SimpleImputer(missing_values=np.nan, strategy=\"most_frequent\")),\n",
    "                             (\"Categorical_PreProcessing\", CountEncoder())])\n",
    "\n",
    "\n",
    "preprocessing_pipeline = ColumnTransformer([(\"Numerical_Transformations\"  , numerical_pipe, num_cols),\n",
    "                                        (\"Categorical_Transformations\", categorical_pipe, cat_cols)])\n",
    "preprocessing_pipeline"
   ]
  },
  {
   "cell_type": "code",
   "execution_count": null,
   "metadata": {},
   "outputs": [],
   "source": [
    "data_transfomr = Pipeline([('Data_Cleaning', cleaning_pipeline),\n",
    "                           ('Feature_Engineering', feature_engineering_pipeline),\n",
    "                           ('PreProcessing', preprocessing_pipeline)])\n",
    "\n",
    "data_transfomr"
   ]
  },
  {
   "attachments": {},
   "cell_type": "markdown",
   "metadata": {},
   "source": [
    " ### <font color='darkorange'> Cross Validation and Hyper parameter fine tunning"
   ]
  },
  {
   "cell_type": "code",
   "execution_count": null,
   "metadata": {},
   "outputs": [],
   "source": [
    "kfold = 5\n",
    "window_size = 2"
   ]
  },
  {
   "cell_type": "code",
   "execution_count": null,
   "metadata": {},
   "outputs": [],
   "source": [
    "data_max = data['date'].max()  # MAX DATE\n",
    "formatted_date = data_max.strftime('%Y-%m-%d')  # Formatação da data como string\n",
    "max_date = datetime.strptime(formatted_date, '%Y-%m-%d')  # Conversão para objeto datetime\n",
    "\n",
    "for k in reversed(range(1, kfold+1)):\n",
    "    validation_start_date = (max_date - timedelta(days=30*k)).replace(day=1)\n",
    "    validation_end_date   = (max_date - timedelta(days=30*(k-1))).replace(day=1)\n",
    "    window = (validation_start_date - timedelta(days=30*window_size)).replace(day=1)\n",
    "\n",
    "    train = data[ (data['date'] >= window) & (data['date'] < validation_start_date)]\n",
    "    test = data[(data['date'] >= validation_start_date) & (data['date'] <= validation_end_date)]\n",
    "    print('\\ntrain')\n",
    "    print(train.date.min(), train.date.max())\n",
    "\n",
    "    print('validation')\n",
    "    print(test.date.min(), test.date.max())"
   ]
  },
  {
   "attachments": {},
   "cell_type": "markdown",
   "metadata": {},
   "source": [
    " ### <font color='darkorange'>  7.1 - LGBMClassifier"
   ]
  },
  {
   "cell_type": "code",
   "execution_count": null,
   "metadata": {},
   "outputs": [],
   "source": [
    "window_size = 24\n",
    "kfold = 5"
   ]
  },
  {
   "cell_type": "code",
   "execution_count": null,
   "metadata": {},
   "outputs": [],
   "source": [
    "space = [(1e-3, 1e-1, 'log-uniform'), # learning_rate\n",
    "         (2, 128), # num_leaves\n",
    "         (2, 100), # min_child_samples\n",
    "         (0.1, 1.0), # subsample\n",
    "         (0.1, 1.0), # colsample bytree\n",
    "         (3, 10), # max_depth\n",
    "         (500,2500)] # n_estimators\n"
   ]
  },
  {
   "cell_type": "code",
   "execution_count": null,
   "metadata": {},
   "outputs": [],
   "source": [
    "def space_model(params):\n",
    "    learning_rate = params[0]\n",
    "    num_leaves = params[1]\n",
    "    min_child_samples = params[2]\n",
    "    subsample = params[3] \n",
    "    colsample_bytree = params[4] \n",
    "    max_depth = params[5]\n",
    "    n_estimators = params[6]\n",
    "        \n",
    "    mdl = LGBMRegressor(learning_rate=learning_rate, num_leaves=num_leaves, min_child_samples=min_child_samples, \n",
    "                        subsample=subsample, colsample_bytree=colsample_bytree, random_state=0, \n",
    "                        subsample_freq=1, max_depth=max_depth, n_estimators=n_estimators, n_jobs=-1)\n",
    "    return mdl\n",
    "\n",
    "model = space_model\n"
   ]
  },
  {
   "cell_type": "code",
   "execution_count": null,
   "metadata": {},
   "outputs": [],
   "source": [
    "bayes_tunning_cv = BayesianSearchCV( kfold=kfold, window_size=window_size, pipe_processing=preprocessing_pipeline, \n",
    "                                     params_space=space, model_params=model, n_calls=30)"
   ]
  },
  {
   "cell_type": "code",
   "execution_count": null,
   "metadata": {},
   "outputs": [],
   "source": [
    "bayes_tunning_cv.fit(X_train,y_train)"
   ]
  },
  {
   "cell_type": "code",
   "execution_count": null,
   "metadata": {},
   "outputs": [],
   "source": [
    "bayes_tunning_cv.cv_results_"
   ]
  },
  {
   "cell_type": "code",
   "execution_count": null,
   "metadata": {},
   "outputs": [],
   "source": [
    "bayes_tunning_cv.best_parameters_"
   ]
  },
  {
   "cell_type": "code",
   "execution_count": null,
   "metadata": {},
   "outputs": [],
   "source": [
    "lgbm = LGBMRegressor(learning_rate=0.08, num_leaves=69, min_child_samples=68, \n",
    "                        subsample=0.82, colsample_bytree=0.68, random_state=0, \n",
    "                        subsample_freq=1, max_depth=8, n_estimators=2235, n_jobs=-1)"
   ]
  },
  {
   "attachments": {},
   "cell_type": "markdown",
   "metadata": {},
   "source": [
    " ### <font color='darkorange'>  7.2. CatBoostRegressor"
   ]
  },
  {
   "cell_type": "code",
   "execution_count": null,
   "metadata": {},
   "outputs": [],
   "source": [
    "window_size = 24\n",
    "kfold = 5"
   ]
  },
  {
   "cell_type": "code",
   "execution_count": null,
   "metadata": {},
   "outputs": [],
   "source": [
    "space = [\n",
    "         (500, 2000), # iterations\n",
    "         (0.0001, 1.0, 'log-uniform'), # learning_rate\n",
    "         (3, 10), # depth\n",
    "         (2, 30), # l2_leaf_reg\n",
    "         (0.0001, 1.0), # bagging_temperature\n",
    "         (1, 50), # min_data_in_leaf\n",
    "         (1, 255), # border_count\n",
    "         (0.01, 1.0, 'uniform'), # random_strength\n",
    "]"
   ]
  },
  {
   "cell_type": "code",
   "execution_count": null,
   "metadata": {},
   "outputs": [],
   "source": [
    "def space_model(params):\n",
    "    iterations = params[0]\n",
    "    learning_rate = params[1]\n",
    "    depth = params[2]\n",
    "    l2_leaf_reg = params[3]\n",
    "    bagging_temperature = params[4]\n",
    "    min_data_in_leaf = params[5]\n",
    "    border_count = params[6]\n",
    "    random_strength = params[7]\n",
    "    \n",
    "    mdl = CatBoostRegressor(iterations=iterations, learning_rate=learning_rate, depth=depth, l2_leaf_reg=l2_leaf_reg, \n",
    "                             bagging_temperature=bagging_temperature, min_data_in_leaf=min_data_in_leaf, border_count=border_count, \n",
    "                             random_strength=random_strength, random_seed=0, verbose=False)\n",
    "    return mdl\n",
    "\n",
    "model = space_model"
   ]
  },
  {
   "cell_type": "code",
   "execution_count": null,
   "metadata": {},
   "outputs": [],
   "source": [
    "bayes_tunning_cv = BayesianSearchCV( kfold=kfold, window_size=window_size, pipe_processing=preprocessing_pipeline, \n",
    "                                     params_space=space, model_params=model, n_calls=30)"
   ]
  },
  {
   "cell_type": "code",
   "execution_count": null,
   "metadata": {},
   "outputs": [],
   "source": [
    "bayes_tunning_cv.fit(X_train,y_train)"
   ]
  },
  {
   "cell_type": "code",
   "execution_count": null,
   "metadata": {},
   "outputs": [],
   "source": [
    "bayes_tunning_cv.cv_results_"
   ]
  },
  {
   "cell_type": "code",
   "execution_count": null,
   "metadata": {},
   "outputs": [],
   "source": [
    "bayes_tunning_cv.best_parameters_"
   ]
  },
  {
   "cell_type": "code",
   "execution_count": null,
   "metadata": {},
   "outputs": [],
   "source": [
    "catboost = CatBoostRegressor(iterations=1728, learning_rate=0.35, depth=9, l2_leaf_reg=22, \n",
    "                                   bagging_temperature=0.43, min_data_in_leaf=24, border_count=147, \n",
    "                                   random_strength=0.42, random_seed=0, verbose=False)"
   ]
  },
  {
   "cell_type": "code",
   "execution_count": null,
   "metadata": {},
   "outputs": [],
   "source": [
    "lgbm_train = [1210.38, 112 85, 1536.14, 1500.08, 1571.21]\n",
    "lgbm_test = [1899.96, 2018.21, 2325.46, 2605.46, 2782.23]\n",
    "cat_train = [689.38, 519.41, 778.26, 794.72, 1792.62]\n",
    "cat_test = [1527.23, 1798.80, 1816.52, 2510.37, 2812.17]\n",
    "\n",
    "metrics_plot = pd.DataFrame({\"KFOLD\": np.arange(1,6,1), \"lgbm_train\": lgbm_train, \"lgbm_test\": lgbm_test, \"cat_train\": cat_train, \"cat_test\": cat_test})\n",
    "metrics_plot"
   ]
  },
  {
   "cell_type": "code",
   "execution_count": null,
   "metadata": {},
   "outputs": [],
   "source": [
    "fig, ax = plt.subplots(figsize=(8,4))\n",
    "sns.lineplot(data=metrics_plot, x=\"KFOLD\", y=\"lgbm_train\", label=\"lgbm_train\")\n",
    "sns.lineplot(data=metrics_plot, x=\"KFOLD\", y=\"lgbm_test\", label=\"lgbm_test\")\n",
    "sns.lineplot(data=metrics_plot, x=\"KFOLD\", y=\"cat_train\", label=\"cat_train\")\n",
    "sns.lineplot(data=metrics_plot, x=\"KFOLD\", y=\"cat_test\", label=\"cat_test\")\n",
    "plt.title(\"Métricas por modelo CrossValidation\",fontsize=10)\n",
    "plt.ylabel(\"RMSE\", fontsize=8)\n",
    "plt.xlabel(\"Numero FOLD\", fontsize=8)\n",
    "ax.set_xticklabels(ax.get_xticklabels(), fontsize=5);\n",
    "ax.set_yticklabels(ax.get_yticklabels(), fontsize=5, rotation=0);"
   ]
  },
  {
   "attachments": {},
   "cell_type": "markdown",
   "metadata": {},
   "source": [
    " ### <font color='darkorange'> <font color='darkorange'>  7.1. Final Performance"
   ]
  },
  {
   "cell_type": "code",
   "execution_count": null,
   "metadata": {},
   "outputs": [],
   "source": [
    "data = pd.read_parquet('data/df2.parquet')\n",
    "\n",
    "# Selecionando somente os Voos Regulares - Já que não faz sentido prever voos irregulares\n",
    "data = data.query(\"grupo_de_voo == 'REGULAR'\")\n",
    "\n",
    "# Como algumas features são dependentes dos passageiros, e estamos tentando prever o numero de passageiros, essas features foram retiradas\n",
    "cols = [\"carga_paga_kg\", \"carga_gratis_kg\", \"correio_kg\", \"ask\", \"rpk\", \"atk\", \"rtk\", \"combustivel_litros\", \"empresa_sigla\", \"empresa_nacionalidade\", \n",
    "        \"grupo_de_voo\", \"combustivel_voo\", \"km_combustivel\", \"passageiros_gratis\", \"bagagem_kg\", \"payload\", \"carga_paga_km\", \"carga_gratis_km\", \"correio_km\", \n",
    "        \"passageiros_assentos\", \"passageiros_voo\", \"passageiros_pg_por_voo\", \"passageiros_gt_por_voo\", \"passageiros_pagos\"]\n",
    "data = data.drop(columns=cols)"
   ]
  },
  {
   "cell_type": "code",
   "execution_count": null,
   "metadata": {},
   "outputs": [],
   "source": [
    "modelofinal = Pipeline([('Data_Cleaning', cleaning_pipeline),\n",
    "                        ('Feature_Engineering', feature_engineering_pipeline),\n",
    "                        ('PreProcessing', preprocessing_pipeline),\n",
    "                        ('CatBoostRegressor', catboost)])\n",
    "\n",
    "modelofinal"
   ]
  },
  {
   "attachments": {},
   "cell_type": "markdown",
   "metadata": {},
   "source": [
    "  ### <font color='darkorange'> Previsão - 1 mes"
   ]
  },
  {
   "cell_type": "code",
   "execution_count": null,
   "metadata": {},
   "outputs": [],
   "source": [
    "# Drop the data_aftercovid before covid\n",
    "after_covid = pd.to_datetime('2021-07-01')\n",
    "data_aftercovid = data.query('date >= @after_covid')\n",
    "data_aftercovid = data_aftercovid.sort_values('date')\n",
    "data_aftercovid = data_aftercovid.reset_index(drop=True)\n",
    "\n",
    "# Split train test\n",
    "train = data_aftercovid.query('date < \"2023-03-01\"')\n",
    "test = data_aftercovid.query('date >= \"2023-03-01\"')\n",
    "\n",
    "X_train = train.copy()\n",
    "y_train = train.passageiros.copy()\n",
    "print( X_train.shape, y_train.shape )\n",
    "\n",
    "X_test = test.copy()\n",
    "y_test = test.passageiros.copy()\n",
    "print( X_test.shape, y_test.shape )"
   ]
  },
  {
   "cell_type": "code",
   "execution_count": null,
   "metadata": {},
   "outputs": [],
   "source": [
    "X_test.head()"
   ]
  },
  {
   "cell_type": "code",
   "execution_count": null,
   "metadata": {},
   "outputs": [],
   "source": [
    "modelofinal.fit(X_train, y_train)"
   ]
  },
  {
   "cell_type": "code",
   "execution_count": null,
   "metadata": {},
   "outputs": [],
   "source": [
    "tam_filter_train = train.empresa_nome.str.contains(\"TAM\")\n",
    "tam_train        = train.query(\"@tam_filter_train\")\n",
    "\n",
    "tam_filter_test  = test.empresa_nome.str.contains(\"TAM\")\n",
    "tam_test         = test.query(\"@tam_filter_test\")\n",
    "\n",
    "\n",
    "gol_filter_train = train.empresa_nome.str.contains(\"GOL\")\n",
    "gol_train        = train.query(\"@gol_filter_train\")\n",
    "\n",
    "gol_filter_test  = test.empresa_nome.str.contains(\"GOL\")\n",
    "gol_test         = test.query(\"@gol_filter_test\")"
   ]
  },
  {
   "cell_type": "code",
   "execution_count": null,
   "metadata": {},
   "outputs": [],
   "source": [
    "X_test_tam = tam.copy()\n",
    "y_test_tam = tam.passageiros\n",
    "print(X_test_tam.shape, y_test_tam.shape)\n",
    "\n",
    "X_test_gol = gol.copy()\n",
    "y_test_gol = gol.passageiros\n",
    "print(X_test_gol.shape, y_test_gol.shape)"
   ]
  },
  {
   "cell_type": "code",
   "execution_count": null,
   "metadata": {},
   "outputs": [],
   "source": [
    "y_pred_tam = modelofinal.predict(X_test_tam)\n",
    "tam_results = RMSE(y_test_tam, y_pred_tam)\n",
    "\n",
    "y_pred_gol = modelofinal.predict(X_test_gol)\n",
    "gol_results = RMSE(y_test_gol, y_pred_gol)"
   ]
  },
  {
   "cell_type": "code",
   "execution_count": null,
   "metadata": {},
   "outputs": [],
   "source": [
    "# BASELINE\n",
    "y_baseline_tam = np.array([tam_train.passageiros.mean()] * len(y_test_tam))\n",
    "tam_baseline_results = RMSE(y_test_tam, y_baseline_tam)\n",
    "\n",
    "y_baseline_gol = np.array([gol_train.passageiros.mean()] * len(y_test_gol))\n",
    "gol_baseline_results = RMSE(y_test_gol, y_baseline_gol)"
   ]
  },
  {
   "cell_type": "code",
   "execution_count": null,
   "metadata": {},
   "outputs": [],
   "source": [
    "results= pd.DataFrame({'baseline':[tam_baseline_results, gol_baseline_results],\n",
    "                       'Modelo':[tam_results, gol_results]},index=['TAM','GOL'])\n",
    "results"
   ]
  },
  {
   "cell_type": "code",
   "execution_count": null,
   "metadata": {},
   "outputs": [],
   "source": [
    "results.plot(kind='bar')\n",
    "\n",
    "# Adicionar título e rótulos dos eixos\n",
    "plt.title('Comparação Resultados TAM e GOL - 1 Mes')\n",
    "plt.xlabel('Modelos')\n",
    "plt.ylabel('RMSE');"
   ]
  },
  {
   "attachments": {},
   "cell_type": "markdown",
   "metadata": {},
   "source": [
    "  ### <font color='darkorange'> Previsão - 1 ano - 1 Rota"
   ]
  },
  {
   "cell_type": "code",
   "execution_count": null,
   "metadata": {},
   "outputs": [],
   "source": [
    "# Split train test\n",
    "train = data.query('date < \"2022-03-01\"')\n",
    "test = data.query('date >= \"2022-03-01\"')\n",
    "test = test.query(\"rota == 'SBGR - SBPA'\")\n",
    "\n",
    "X_train = train.copy()\n",
    "y_train = train.passageiros.copy()\n",
    "print( X_train.shape, y_train.shape )\n",
    "\n",
    "X_test = test.copy()\n",
    "y_test = test.passageiros.copy()\n",
    "print( X_test.shape, y_test.shape )"
   ]
  },
  {
   "cell_type": "code",
   "execution_count": null,
   "metadata": {},
   "outputs": [],
   "source": [
    "X_test.head()"
   ]
  },
  {
   "cell_type": "code",
   "execution_count": null,
   "metadata": {},
   "outputs": [],
   "source": [
    "modelofinal.fit(X_train, y_train)"
   ]
  },
  {
   "cell_type": "code",
   "execution_count": null,
   "metadata": {},
   "outputs": [],
   "source": [
    "tam_filter_train = train.empresa_nome.str.contains(\"TAM\")\n",
    "tam_train        = train.query(\"@tam_filter_train\")\n",
    "\n",
    "tam_filter_test  = test.empresa_nome.str.contains(\"TAM\")\n",
    "tam_test         = test.query(\"@tam_filter_test\")\n",
    "\n",
    "\n",
    "gol_filter_train = train.empresa_nome.str.contains(\"GOL\")\n",
    "gol_train        = train.query(\"@gol_filter_train\")\n",
    "\n",
    "gol_filter_test  = test.empresa_nome.str.contains(\"GOL\")\n",
    "gol_test         = test.query(\"@gol_filter_test\")"
   ]
  },
  {
   "cell_type": "code",
   "execution_count": null,
   "metadata": {},
   "outputs": [],
   "source": [
    "X_test_tam = tam.copy()\n",
    "y_test_tam = tam.passageiros\n",
    "print(X_test_tam.shape, y_test_tam.shape)\n",
    "\n",
    "X_test_gol = gol.copy()\n",
    "y_test_gol = gol.passageiros\n",
    "print(X_test_gol.shape, y_test_gol.shape)"
   ]
  },
  {
   "cell_type": "code",
   "execution_count": null,
   "metadata": {},
   "outputs": [],
   "source": [
    "y_pred_tam = modelofinal.predict(X_test_tam)\n",
    "tam_results = RMSE(y_test_tam, y_pred_tam)\n",
    "\n",
    "y_pred_gol = modelofinal.predict(X_test_gol)\n",
    "gol_results = RMSE(y_test_gol, y_pred_gol)"
   ]
  },
  {
   "cell_type": "code",
   "execution_count": null,
   "metadata": {},
   "outputs": [],
   "source": [
    "# BASELINE\n",
    "y_baseline_tam = np.array([tam_train.passageiros.mean()] * len(y_test_tam))\n",
    "tam_baseline_results = RMSE(y_test_tam, y_baseline_tam)\n",
    "\n",
    "y_baseline_gol = np.array([gol_train.passageiros.mean()] * len(y_test_gol))\n",
    "gol_baseline_results = RMSE(y_test_gol, y_baseline_gol)"
   ]
  },
  {
   "cell_type": "code",
   "execution_count": null,
   "metadata": {},
   "outputs": [],
   "source": [
    "results= pd.DataFrame({'baseline':[tam_baseline_results, gol_baseline_results],\n",
    "                       'Modelo':[tam_results, gol_results]},index=['TAM','GOL'])\n",
    "results.T"
   ]
  },
  {
   "cell_type": "code",
   "execution_count": null,
   "metadata": {},
   "outputs": [],
   "source": [
    "results.plot(kind='bar')\n",
    "\n",
    "# Adicionar título e rótulos dos eixos\n",
    "plt.title('Comparação de resultados TAM e GOL - 1 ANO - Rota SBGR - SBPA')\n",
    "plt.xlabel('Modelos')\n",
    "plt.ylabel('RMSE');"
   ]
  },
  {
   "cell_type": "code",
   "execution_count": null,
   "metadata": {},
   "outputs": [],
   "source": [
    "X_test.date.hist()"
   ]
  },
  {
   "cell_type": "code",
   "execution_count": null,
   "metadata": {},
   "outputs": [],
   "source": [
    "X_test_tam"
   ]
  },
  {
   "cell_type": "code",
   "execution_count": null,
   "metadata": {},
   "outputs": [],
   "source": [
    "X_test_tam['pred'] = y_pred_tam\n",
    "X_test_gol['pred'] = y_pred_gol\n",
    "\n",
    "sns.scatterplot(data=X_test_gol, x='mes', y='passageiros', label='TRUE')\n",
    "sns.scatterplot(data=X_test_gol, x='mes', y='pred', label='pred')"
   ]
  },
  {
   "cell_type": "code",
   "execution_count": null,
   "metadata": {},
   "outputs": [],
   "source": []
  },
  {
   "cell_type": "code",
   "execution_count": null,
   "metadata": {},
   "outputs": [],
   "source": []
  }
 ],
 "metadata": {
  "kernelspec": {
   "display_name": "pa05",
   "language": "python",
   "name": "python3"
  },
  "language_info": {
   "codemirror_mode": {
    "name": "ipython",
    "version": 3
   },
   "file_extension": ".py",
   "mimetype": "text/x-python",
   "name": "python",
   "nbconvert_exporter": "python",
   "pygments_lexer": "ipython3",
   "version": "3.10.0"
  },
  "orig_nbformat": 4
 },
 "nbformat": 4,
 "nbformat_minor": 2
}
